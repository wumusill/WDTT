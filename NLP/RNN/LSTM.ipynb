{
 "cells": [
  {
   "cell_type": "code",
   "execution_count": 1,
   "metadata": {},
   "outputs": [],
   "source": [
    "import numpy as np\n",
    "import tensorflow as tf\n",
    "from tensorflow.keras.layers import SimpleRNN, LSTM, Bidirectional"
   ]
  },
  {
   "cell_type": "code",
   "execution_count": 5,
   "metadata": {},
   "outputs": [
    {
     "name": "stdout",
     "output_type": "stream",
     "text": [
      "(4, 5)\n"
     ]
    }
   ],
   "source": [
    "# 5차원의 단어 벡터\n",
    "# 문장의 길이 : 4\n",
    "train_X = [\n",
    "    [0.1, 4.2, 1.5, 1.1, 2.8], \n",
    "    [1.0, 3.1, 2.5, 0.7, 1.1], \n",
    "    [0.3, 2.1, 1.5, 2.1, 0.1], \n",
    "    [2.2, 1.4, 0.5, 0.9, 1.1]\n",
    "    ]\n",
    "print(np.shape(train_X))"
   ]
  },
  {
   "cell_type": "code",
   "execution_count": 40,
   "metadata": {},
   "outputs": [
    {
     "name": "stdout",
     "output_type": "stream",
     "text": [
      "(1, 4, 5)\n"
     ]
    }
   ],
   "source": [
    "# RNN은 2D Tensor가 아닌 3D Tensor 입력 받음\n",
    "# 배치 크기 1을 추가해 3D Tensor로 변경\n",
    "# batch_size는 한 번에 RNN이 학습하는 데이터의 양, 샘플이 1개 이므로 1\n",
    "train_X = [\n",
    "    [[0.1, 4.2, 1.5, 1.1, 2.8],\n",
    "     [1.0, 3.1, 2.5, 0.7, 1.1], \n",
    "     [0.3, 2.1, 1.5, 2.1, 0.1], \n",
    "     [2.2, 1.4, 0.5, 0.9, 1.1]]\n",
    "    ]\n",
    "\n",
    "# numpy array로 변환\n",
    "train_X = np.array(train_X, dtype=np.float32)\n",
    "print(np.shape(train_X))"
   ]
  },
  {
   "attachments": {},
   "cell_type": "markdown",
   "metadata": {},
   "source": [
    "## SimpleRNN"
   ]
  },
  {
   "cell_type": "code",
   "execution_count": 41,
   "metadata": {},
   "outputs": [
    {
     "name": "stdout",
     "output_type": "stream",
     "text": [
      "(1, 4, 5)\n"
     ]
    },
    {
     "data": {
      "text/plain": [
       "array([[[0.1, 4.2, 1.5, 1.1, 2.8],\n",
       "        [1. , 3.1, 2.5, 0.7, 1.1],\n",
       "        [0.3, 2.1, 1.5, 2.1, 0.1],\n",
       "        [2.2, 1.4, 0.5, 0.9, 1.1]]], dtype=float32)"
      ]
     },
     "execution_count": 41,
     "metadata": {},
     "output_type": "execute_result"
    }
   ],
   "source": [
    "print(np.shape(train_X))\n",
    "train_X"
   ]
  },
  {
   "cell_type": "code",
   "execution_count": 49,
   "metadata": {},
   "outputs": [
    {
     "name": "stdout",
     "output_type": "stream",
     "text": [
      "hidden state : [[-0.9970525   0.93823165  0.8588747 ]], shape: (1, 3)\n"
     ]
    }
   ],
   "source": [
    "rnn = SimpleRNN(3, return_sequences=False, return_state=False)\n",
    "hidden_state = rnn(train_X)\n",
    "\n",
    "print(f'hidden state : {hidden_state}, shape: {hidden_state.shape}')"
   ]
  },
  {
   "cell_type": "code",
   "execution_count": 51,
   "metadata": {},
   "outputs": [
    {
     "name": "stdout",
     "output_type": "stream",
     "text": [
      "hidden state : [[[-0.9999829   0.99460703  0.07401923]\n",
      "  [-0.9998104   0.99197096  0.97708225]\n",
      "  [-0.9791244   0.5433944   0.8172264 ]\n",
      "  [-0.99488074  0.90221334  0.93430704]]], shape: (1, 4, 3)\n"
     ]
    }
   ],
   "source": [
    "rnn = SimpleRNN(3, return_sequences=True)\n",
    "hidden_states = rnn(train_X)\n",
    "\n",
    "print(f'hidden state : {hidden_states}, shape: {hidden_states.shape}')\n"
   ]
  },
  {
   "cell_type": "code",
   "execution_count": 52,
   "metadata": {},
   "outputs": [
    {
     "name": "stdout",
     "output_type": "stream",
     "text": [
      "hidden states : [[[-0.9999829   0.99460703  0.07401923]\n",
      "  [-0.99838936  0.99902976  0.9854075 ]\n",
      "  [-0.8120765   0.96927166  0.51177096]\n",
      "  [-0.93273544  0.9777664   0.84414005]]], shape: (1, 4, 3)\n",
      "last hidden state : [[-0.93273544  0.9777664   0.84414005]], shape: (1, 3)\n"
     ]
    }
   ],
   "source": [
    "rnn = SimpleRNN(3, return_sequences=True, return_state=True)\n",
    "hidden_states, last_state = rnn(train_X)\n",
    "\n",
    "print(f'hidden states : {hidden_states}, shape: {hidden_states.shape}')\n",
    "print(f'last hidden state : {last_state}, shape: {last_state.shape}')"
   ]
  },
  {
   "cell_type": "code",
   "execution_count": 53,
   "metadata": {},
   "outputs": [
    {
     "name": "stdout",
     "output_type": "stream",
     "text": [
      "hidden state : [[-0.97541666  0.84519523 -0.5688779 ]], shape: (1, 3)\n",
      "last hidden state : [[-0.97541666  0.84519523 -0.5688779 ]], shape: (1, 3)\n"
     ]
    }
   ],
   "source": [
    "rnn = SimpleRNN(3, return_sequences=False, return_state=True)\n",
    "hidden_state, last_state = rnn(train_X)\n",
    "\n",
    "print(f'hidden state : {hidden_state}, shape: {hidden_state.shape}')\n",
    "print(f'last hidden state : {last_state}, shape: {last_state.shape}')"
   ]
  },
  {
   "cell_type": "code",
   "execution_count": null,
   "metadata": {},
   "outputs": [],
   "source": []
  }
 ],
 "metadata": {
  "kernelspec": {
   "display_name": "tf-cert",
   "language": "python",
   "name": "python3"
  },
  "language_info": {
   "codemirror_mode": {
    "name": "ipython",
    "version": 3
   },
   "file_extension": ".py",
   "mimetype": "text/x-python",
   "name": "python",
   "nbconvert_exporter": "python",
   "pygments_lexer": "ipython3",
   "version": "3.8.15"
  },
  "orig_nbformat": 4,
  "vscode": {
   "interpreter": {
    "hash": "b37592e24976bbc2b4793f9e16cde29a149096caf81a3ecbdead9daa6a7261c0"
   }
  }
 },
 "nbformat": 4,
 "nbformat_minor": 2
}

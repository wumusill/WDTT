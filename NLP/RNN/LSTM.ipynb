{
 "cells": [
  {
   "cell_type": "code",
   "execution_count": 1,
   "metadata": {},
   "outputs": [],
   "source": [
    "import numpy as np\n",
    "import tensorflow as tf\n",
    "from tensorflow.keras.layers import SimpleRNN, LSTM, Bidirectional"
   ]
  },
  {
   "cell_type": "code",
   "execution_count": 5,
   "metadata": {},
   "outputs": [
    {
     "name": "stdout",
     "output_type": "stream",
     "text": [
      "(4, 5)\n"
     ]
    }
   ],
   "source": [
    "# 5차원의 단어 벡터\n",
    "# 문장의 길이 : 4\n",
    "train_X = [\n",
    "    [0.1, 4.2, 1.5, 1.1, 2.8], \n",
    "    [1.0, 3.1, 2.5, 0.7, 1.1], \n",
    "    [0.3, 2.1, 1.5, 2.1, 0.1], \n",
    "    [2.2, 1.4, 0.5, 0.9, 1.1]\n",
    "    ]\n",
    "print(np.shape(train_X))"
   ]
  },
  {
   "cell_type": "code",
   "execution_count": 40,
   "metadata": {},
   "outputs": [
    {
     "name": "stdout",
     "output_type": "stream",
     "text": [
      "(1, 4, 5)\n"
     ]
    }
   ],
   "source": [
    "# RNN은 2D Tensor가 아닌 3D Tensor 입력 받음\n",
    "# 배치 크기 1을 추가해 3D Tensor로 변경\n",
    "# batch_size는 한 번에 RNN이 학습하는 데이터의 양, 샘플이 1개 이므로 1\n",
    "train_X = [\n",
    "    [[0.1, 4.2, 1.5, 1.1, 2.8],\n",
    "     [1.0, 3.1, 2.5, 0.7, 1.1], \n",
    "     [0.3, 2.1, 1.5, 2.1, 0.1], \n",
    "     [2.2, 1.4, 0.5, 0.9, 1.1]]\n",
    "    ]\n",
    "\n",
    "# numpy array로 변환\n",
    "train_X = np.array(train_X, dtype=np.float32)\n",
    "print(np.shape(train_X))"
   ]
  },
  {
   "attachments": {},
   "cell_type": "markdown",
   "metadata": {},
   "source": [
    "## SimpleRNN"
   ]
  },
  {
   "cell_type": "code",
   "execution_count": 41,
   "metadata": {},
   "outputs": [
    {
     "name": "stdout",
     "output_type": "stream",
     "text": [
      "(1, 4, 5)\n"
     ]
    },
    {
     "data": {
      "text/plain": [
       "array([[[0.1, 4.2, 1.5, 1.1, 2.8],\n",
       "        [1. , 3.1, 2.5, 0.7, 1.1],\n",
       "        [0.3, 2.1, 1.5, 2.1, 0.1],\n",
       "        [2.2, 1.4, 0.5, 0.9, 1.1]]], dtype=float32)"
      ]
     },
     "execution_count": 41,
     "metadata": {},
     "output_type": "execute_result"
    }
   ],
   "source": [
    "print(np.shape(train_X))\n",
    "train_X"
   ]
  },
  {
   "cell_type": "code",
   "execution_count": 56,
   "metadata": {},
   "outputs": [
    {
     "name": "stdout",
     "output_type": "stream",
     "text": [
      "hidden state : [[-0.974531    0.8907833  -0.01162113]], shape: (1, 3)\n"
     ]
    }
   ],
   "source": [
    "# units = hidden_state의 크기\n",
    "rnn = SimpleRNN(units=3, return_sequences=False, return_state=False)\n",
    "hidden_state = rnn(train_X)\n",
    "\n",
    "# 마지막 timestep의 hidden state\n",
    "# return_sequences=False : 마지막 시점의 hidden state 출력 \n",
    "print(f'hidden state : {hidden_state}, shape: {hidden_state.shape}')"
   ]
  },
  {
   "cell_type": "code",
   "execution_count": 57,
   "metadata": {},
   "outputs": [
    {
     "name": "stdout",
     "output_type": "stream",
     "text": [
      "hidden state : [[[-0.9999829   0.99460703  0.07401923]\n",
      "  [-0.99997455  0.99846363  0.55431914]\n",
      "  [-0.99814117  0.8899799  -0.87345374]\n",
      "  [-0.9985305   0.6077229  -0.13207197]]], shape: (1, 4, 3)\n"
     ]
    }
   ],
   "source": [
    "# return_sequences=True : 모든 지점의 hidden_state 출력\n",
    "# 문장의 길이에 맞게 timesteps = 4\n",
    "# 각 timestep에 해당하는 hidden state 출력\n",
    "rnn = SimpleRNN(3, return_sequences=True)\n",
    "hidden_states = rnn(train_X)\n",
    "\n",
    "print(f'hidden state : {hidden_states}, shape: {hidden_states.shape}')\n"
   ]
  },
  {
   "cell_type": "code",
   "execution_count": 52,
   "metadata": {},
   "outputs": [
    {
     "name": "stdout",
     "output_type": "stream",
     "text": [
      "hidden states : [[[-0.9999829   0.99460703  0.07401923]\n",
      "  [-0.99838936  0.99902976  0.9854075 ]\n",
      "  [-0.8120765   0.96927166  0.51177096]\n",
      "  [-0.93273544  0.9777664   0.84414005]]], shape: (1, 4, 3)\n",
      "last hidden state : [[-0.93273544  0.9777664   0.84414005]], shape: (1, 3)\n"
     ]
    }
   ],
   "source": [
    "# return_state가 True일 경우에는 return_sequences의 True/False 여부와 상관없이 마지막 시점의 은닉 상태를 출력\n",
    "# return_sequences가 True이면서, return_state를 True로 할 경우 SimpleRNN은 두 개의 출력 리턴\n",
    "rnn = SimpleRNN(3, return_sequences=True, return_state=True)\n",
    "hidden_states, last_state = rnn(train_X)\n",
    "\n",
    "print(f'hidden states : {hidden_states}, shape: {hidden_states.shape}')\n",
    "print(f'last hidden state : {last_state}, shape: {last_state.shape}')"
   ]
  },
  {
   "cell_type": "code",
   "execution_count": 53,
   "metadata": {},
   "outputs": [
    {
     "name": "stdout",
     "output_type": "stream",
     "text": [
      "hidden state : [[-0.97541666  0.84519523 -0.5688779 ]], shape: (1, 3)\n",
      "last hidden state : [[-0.97541666  0.84519523 -0.5688779 ]], shape: (1, 3)\n"
     ]
    }
   ],
   "source": [
    "# return_sequences=False : 마지막 hidden state 출력\n",
    "# return_state=True : 마지막 hidden state 출력\n",
    "# 두 출력이 동일한 것을 확인\n",
    "rnn = SimpleRNN(3, return_sequences=False, return_state=True)\n",
    "hidden_state, last_state = rnn(train_X)\n",
    "\n",
    "print(f'hidden state : {hidden_state}, shape: {hidden_state.shape}')\n",
    "print(f'last hidden state : {last_state}, shape: {last_state.shape}')"
   ]
  },
  {
   "attachments": {},
   "cell_type": "markdown",
   "metadata": {},
   "source": [
    "## LSTM"
   ]
  },
  {
   "cell_type": "code",
   "execution_count": 54,
   "metadata": {},
   "outputs": [
    {
     "name": "stdout",
     "output_type": "stream",
     "text": [
      "hidden state : [[-0.02925253 -0.01001881  0.7136197 ]], shape: (1, 3)\n",
      "last hidden state : [[-0.02925253 -0.01001881  0.7136197 ]], shape: (1, 3)\n",
      "last cell state : [[-0.10289744 -0.04061481  1.9114045 ]], shape: (1, 3)\n"
     ]
    }
   ],
   "source": [
    "# SimpleRNN과 달리 3개를 결과를 return\n",
    "# return_sequences=False : 마지막 hidden state 출력\n",
    "# return_state=True : 마지막 hidden state, cell state 출력 \n",
    "lstm = LSTM(3, return_sequences=False, return_state=True)\n",
    "hidden_state, last_state, last_cell_state = lstm(train_X)\n",
    "\n",
    "print(f'hidden state : {hidden_state}, shape: {hidden_state.shape}')\n",
    "print(f'last hidden state : {last_state}, shape: {last_state.shape}')\n",
    "print(f'last cell state : {last_cell_state}, shape: {last_cell_state.shape}')"
   ]
  },
  {
   "cell_type": "code",
   "execution_count": 60,
   "metadata": {},
   "outputs": [
    {
     "name": "stdout",
     "output_type": "stream",
     "text": [
      "hidden states : [[[ 0.0026663  -0.13464242  0.59659475]\n",
      "  [ 0.00436406 -0.10592887  0.78714824]\n",
      "  [-0.03421792 -0.39460936  0.8686176 ]\n",
      "  [-0.05326659 -0.15813753  0.5846672 ]]], shape: (1, 4, 3)\n",
      "last hidden state : [[-0.02925253 -0.01001881  0.7136197 ]], shape: (1, 3)\n",
      "last cell state : [[-0.17729081 -0.49351636  1.6238706 ]], shape: (1, 3)\n"
     ]
    }
   ],
   "source": [
    "# return_sequences=True : 모든 timestep의 hidden state 출력\n",
    "lstm = LSTM(3, return_sequences=True, return_state=True)\n",
    "hidden_states, last_hidden_state, last_cell_state = lstm(train_X)\n",
    "\n",
    "print(f'hidden states : {hidden_states}, shape: {hidden_states.shape}')\n",
    "print(f'last hidden state : {last_state}, shape: {last_state.shape}')\n",
    "print(f'last cell state : {last_cell_state}, shape: {last_cell_state.shape}')"
   ]
  },
  {
   "attachments": {},
   "cell_type": "markdown",
   "metadata": {},
   "source": [
    "## Bidirectional(LSTM)"
   ]
  },
  {
   "cell_type": "code",
   "execution_count": 61,
   "metadata": {},
   "outputs": [],
   "source": [
    "# 츨력되는 hidden state 값 고정\n",
    "k_init = tf.keras.initializers.Constant(value=0.1)\n",
    "b_init = tf.keras.initializers.Constant(value=0)\n",
    "r_init = tf.keras.initializers.Constant(value=0.1)"
   ]
  },
  {
   "cell_type": "code",
   "execution_count": 65,
   "metadata": {},
   "outputs": [
    {
     "name": "stdout",
     "output_type": "stream",
     "text": [
      "hidden states : [[0.63031393 0.63031393 0.63031393 0.70387346 0.70387346 0.70387346]], shape: (1, 6)\n",
      "forward state : [[0.63031393 0.63031393 0.63031393]], shape: (1, 3)\n",
      "backward state : [[0.70387346 0.70387346 0.70387346]], shape: (1, 3)\n"
     ]
    }
   ],
   "source": [
    "# Bidirectional은 5개의 값 return\n",
    "# return_sequences=False : 마지막 hidden state 출력\n",
    "# return_state=True : 마지막 hidden state, 정방향 LSTM의 hidden state, cell state, 역방향 LSTM의 hidden state, cell state\n",
    "# hidden_states.shape = (1, 6) : return_sequences=False 인 경우\n",
    "# 마지막 hidden state는 정방향 LSTM의 마지막 timestep hidden state와 역방향 LSTM 첫 timestep hidden state가 연결된 채 반환\n",
    "bilstm = Bidirectional(LSTM(3, return_sequences=False, return_state=True, \n",
    "                            kernel_initializer=k_init, bias_initializer=b_init, recurrent_initializer=r_init))\n",
    "\n",
    "hidden_states, forward_h, forward_c, backward_h, backward_c = bilstm(train_X)\n",
    "\n",
    "print(f'hidden states : {hidden_states}, shape: {hidden_states.shape}')\n",
    "print(f'forward state : {forward_h}, shape: {forward_h.shape}')\n",
    "print(f'backward state : {backward_h}, shape: {backward_h.shape}')"
   ]
  },
  {
   "cell_type": "code",
   "execution_count": 66,
   "metadata": {},
   "outputs": [
    {
     "name": "stdout",
     "output_type": "stream",
     "text": [
      "hidden states : [[[0.35906473 0.35906473 0.35906473 0.70387346 0.70387346 0.70387346]\n",
      "  [0.5511133  0.5511133  0.5511133  0.5886358  0.5886358  0.5886358 ]\n",
      "  [0.59115756 0.59115756 0.59115756 0.39516988 0.39516988 0.39516988]\n",
      "  [0.63031393 0.63031393 0.63031393 0.21942246 0.21942246 0.21942246]]], shape: (1, 4, 6)\n",
      "forward state : [[0.63031393 0.63031393 0.63031393]], shape: (1, 3)\n",
      "backward state : [[0.70387346 0.70387346 0.70387346]], shape: (1, 3)\n"
     ]
    }
   ],
   "source": [
    "# return_sequences=True : 모든 timestep의 hidden state 출력 \n",
    "# 역방향 LSTM의 첫번째 시점의 은닉 상태는 정방향 LSTM의 첫번째 시점의 은닉 상태와 연결\n",
    "# 0번 째 hidden state = 정방향, 역방향 0번 째 timestep\n",
    "# 1번 째 hidden state = 정방향, 역방향 1번 째 timestep\n",
    "bilstm = Bidirectional(LSTM(3, return_sequences=True, return_state=True,\n",
    "                            kernel_initializer=k_init, bias_initializer=b_init, recurrent_initializer=r_init))\n",
    "\n",
    "hidden_states, forward_h, forward_c, backward_h, backward_c = bilstm(train_X)\n",
    "\n",
    "print(f'hidden states : {hidden_states}, shape: {hidden_states.shape}')\n",
    "print(f'forward state : {forward_h}, shape: {forward_h.shape}')\n",
    "print(f'backward state : {backward_h}, shape: {backward_h.shape}')"
   ]
  },
  {
   "cell_type": "code",
   "execution_count": null,
   "metadata": {},
   "outputs": [],
   "source": []
  }
 ],
 "metadata": {
  "kernelspec": {
   "display_name": "tf-cert",
   "language": "python",
   "name": "python3"
  },
  "language_info": {
   "codemirror_mode": {
    "name": "ipython",
    "version": 3
   },
   "file_extension": ".py",
   "mimetype": "text/x-python",
   "name": "python",
   "nbconvert_exporter": "python",
   "pygments_lexer": "ipython3",
   "version": "3.8.15"
  },
  "orig_nbformat": 4,
  "vscode": {
   "interpreter": {
    "hash": "b37592e24976bbc2b4793f9e16cde29a149096caf81a3ecbdead9daa6a7261c0"
   }
  }
 },
 "nbformat": 4,
 "nbformat_minor": 2
}

{
 "cells": [
  {
   "attachments": {},
   "cell_type": "markdown",
   "metadata": {},
   "source": [
    "## RNN을 이용하여 텍스트 생성하기"
   ]
  },
  {
   "cell_type": "code",
   "execution_count": 1,
   "metadata": {},
   "outputs": [],
   "source": [
    "import numpy as np\n",
    "from tensorflow.keras.preprocessing.text import Tokenizer\n",
    "from tensorflow.keras.preprocessing.sequence import pad_sequences\n",
    "from tensorflow.keras.utils import to_categorical"
   ]
  },
  {
   "cell_type": "code",
   "execution_count": 2,
   "metadata": {},
   "outputs": [],
   "source": [
    "text = \"\"\"경마장에 있는 말이 뛰고 있다\\n\n",
    "그의 말이 법이다\\n\n",
    "가는 말이 고와야 오는 말이 곱다\\n\"\"\""
   ]
  },
  {
   "cell_type": "code",
   "execution_count": 6,
   "metadata": {},
   "outputs": [
    {
     "name": "stdout",
     "output_type": "stream",
     "text": [
      "단어 집합의 크기 : 12\n",
      "{'말이': 1, '경마장에': 2, '있는': 3, '뛰고': 4, '있다': 5, '그의': 6, '법이다': 7, '가는': 8, '고와야': 9, '오는': 10, '곱다': 11}\n"
     ]
    }
   ],
   "source": [
    "tokenizer = Tokenizer()\n",
    "tokenizer.fit_on_texts([text])\n",
    "\n",
    "# 패딩을 위한 0을 고려하여 +1\n",
    "vocab_size = len(tokenizer.word_index) + 1\n",
    "print(f'단어 집합의 크기 : {vocab_size}')\n",
    "print(tokenizer.word_index)"
   ]
  },
  {
   "cell_type": "code",
   "execution_count": 7,
   "metadata": {},
   "outputs": [
    {
     "name": "stdout",
     "output_type": "stream",
     "text": [
      "단어 집합의 크기 : 12\n"
     ]
    }
   ],
   "source": [
    "print(f'단어 집합의 크기 : {vocab_size}')"
   ]
  },
  {
   "attachments": {},
   "cell_type": "markdown",
   "metadata": {},
   "source": [
    "[texts_to_sequences 공식 문서](https://www.tensorflow.org/api_docs/python/tf/keras/preprocessing/text/Tokenizer#texts_to_sequences)\n",
    "* Transforms each text in texts to a sequence of integers."
   ]
  },
  {
   "cell_type": "code",
   "execution_count": 8,
   "metadata": {},
   "outputs": [
    {
     "name": "stdout",
     "output_type": "stream",
     "text": [
      "학습에 사용할 샘플의 개수: 11\n"
     ]
    }
   ],
   "source": [
    "sequences = list()\n",
    "for line in text.split('\\n'): # 줄바꿈 문자를 기준으로 문장 토큰화\n",
    "    encoded = tokenizer.texts_to_sequences([line])[0]\n",
    "    for i in range(1, len(encoded)):\n",
    "        sequence = encoded[:i+1]\n",
    "        sequences.append(sequence)\n",
    "\n",
    "print(f'학습에 사용할 샘플의 개수: {len(sequences)}')"
   ]
  },
  {
   "attachments": {},
   "cell_type": "markdown",
   "metadata": {},
   "source": [
    "### 위 반복문 해부"
   ]
  },
  {
   "cell_type": "code",
   "execution_count": 14,
   "metadata": {},
   "outputs": [],
   "source": [
    "sequences = list()\n",
    "for line in text.split('\\n'): # 줄바꿈 문자를 기준으로 문장 토큰화\n",
    "    # 단어장의 index로 문장 인코딩 \n",
    "    # 경마장에 있는 말이 뛰고 있다 = [[2, 3, 1, 4, 5]]\n",
    "    encoded = tokenizer.texts_to_sequences([line])[0]\n",
    "    for i in range(1, len(encoded)):\n",
    "        sequence = encoded[:i+1]\n",
    "        sequences.append(sequence)"
   ]
  },
  {
   "attachments": {},
   "cell_type": "markdown",
   "metadata": {},
   "source": [
    "## 다시 돌아와서"
   ]
  },
  {
   "cell_type": "code",
   "execution_count": 16,
   "metadata": {},
   "outputs": [
    {
     "name": "stdout",
     "output_type": "stream",
     "text": [
      "[[2, 3], [2, 3, 1], [2, 3, 1, 4], [2, 3, 1, 4, 5], [6, 1], [6, 1, 7], [8, 1], [8, 1, 9], [8, 1, 9, 10], [8, 1, 9, 10, 1], [8, 1, 9, 10, 1, 11]]\n"
     ]
    }
   ],
   "source": [
    "print(sequences)"
   ]
  },
  {
   "cell_type": "code",
   "execution_count": 17,
   "metadata": {},
   "outputs": [
    {
     "name": "stdout",
     "output_type": "stream",
     "text": [
      "샘플의 최대 길이 : 6\n"
     ]
    }
   ],
   "source": [
    "max_len = max(len(l) for l in sequences) # 모든 샘플에서 길이가 가장 긴 샘플의 길이 출력\n",
    "print(f'샘플의 최대 길이 : {max_len}')"
   ]
  },
  {
   "cell_type": "code",
   "execution_count": 18,
   "metadata": {},
   "outputs": [
    {
     "name": "stdout",
     "output_type": "stream",
     "text": [
      "[[ 0  0  0  0  2  3]\n",
      " [ 0  0  0  2  3  1]\n",
      " [ 0  0  2  3  1  4]\n",
      " [ 0  2  3  1  4  5]\n",
      " [ 0  0  0  0  6  1]\n",
      " [ 0  0  0  6  1  7]\n",
      " [ 0  0  0  0  8  1]\n",
      " [ 0  0  0  8  1  9]\n",
      " [ 0  0  8  1  9 10]\n",
      " [ 0  8  1  9 10  1]\n",
      " [ 8  1  9 10  1 11]]\n"
     ]
    }
   ],
   "source": [
    "# pad_sequences : 0을 활용하여 모든 샘플에 대해 길이를 맞춤\n",
    "# 아래 코드는 모든 시퀀스의 길이를 6으로 맞추기 위해 0을 샘플의 앞에 채움\n",
    "sequences = pad_sequences(sequences, maxlen=max_len, padding='pre')\n",
    "print(sequences)"
   ]
  },
  {
   "cell_type": "code",
   "execution_count": 27,
   "metadata": {},
   "outputs": [
    {
     "name": "stdout",
     "output_type": "stream",
     "text": [
      "[[ 0  0  0  0  2]\n",
      " [ 0  0  0  2  3]\n",
      " [ 0  0  2  3  1]\n",
      " [ 0  2  3  1  4]\n",
      " [ 0  0  0  0  6]\n",
      " [ 0  0  0  6  1]\n",
      " [ 0  0  0  0  8]\n",
      " [ 0  0  0  8  1]\n",
      " [ 0  0  8  1  9]\n",
      " [ 0  8  1  9 10]\n",
      " [ 8  1  9 10  1]]\n",
      "\n",
      "[ 3  1  4  5  1  7  1  9 10  1 11]\n"
     ]
    }
   ],
   "source": [
    "# 각 샘플의 마지막 단어를 label로 분리\n",
    "sequences = np.array(sequences)\n",
    "X = sequences[:,:-1]\n",
    "y = sequences[:,-1]\n",
    "print(X)\n",
    "print()\n",
    "print(y)"
   ]
  },
  {
   "cell_type": "code",
   "execution_count": 28,
   "metadata": {},
   "outputs": [
    {
     "data": {
      "text/plain": [
       "array([[0., 0., 0., 1., 0., 0., 0., 0., 0., 0., 0., 0.],\n",
       "       [0., 1., 0., 0., 0., 0., 0., 0., 0., 0., 0., 0.],\n",
       "       [0., 0., 0., 0., 1., 0., 0., 0., 0., 0., 0., 0.],\n",
       "       [0., 0., 0., 0., 0., 1., 0., 0., 0., 0., 0., 0.],\n",
       "       [0., 1., 0., 0., 0., 0., 0., 0., 0., 0., 0., 0.],\n",
       "       [0., 0., 0., 0., 0., 0., 0., 1., 0., 0., 0., 0.],\n",
       "       [0., 1., 0., 0., 0., 0., 0., 0., 0., 0., 0., 0.],\n",
       "       [0., 0., 0., 0., 0., 0., 0., 0., 0., 1., 0., 0.],\n",
       "       [0., 0., 0., 0., 0., 0., 0., 0., 0., 0., 1., 0.],\n",
       "       [0., 1., 0., 0., 0., 0., 0., 0., 0., 0., 0., 0.],\n",
       "       [0., 0., 0., 0., 0., 0., 0., 0., 0., 0., 0., 1.]], dtype=float32)"
      ]
     },
     "execution_count": 28,
     "metadata": {},
     "output_type": "execute_result"
    }
   ],
   "source": [
    "# RNN 모델에 훈련 데이터로 사용하기 위해 One-hot encoding\n",
    "y = to_categorical(y, num_classes=vocab_size)\n",
    "y"
   ]
  },
  {
   "attachments": {},
   "cell_type": "markdown",
   "metadata": {},
   "source": [
    "## Modeling"
   ]
  },
  {
   "cell_type": "code",
   "execution_count": 29,
   "metadata": {},
   "outputs": [],
   "source": [
    "from tensorflow.keras.models import Sequential\n",
    "from tensorflow.keras.layers import Embedding, Dense, SimpleRNN"
   ]
  },
  {
   "cell_type": "code",
   "execution_count": 30,
   "metadata": {},
   "outputs": [
    {
     "name": "stdout",
     "output_type": "stream",
     "text": [
      "Metal device set to: Apple M1 Pro\n",
      "\n",
      "systemMemory: 16.00 GB\n",
      "maxCacheSize: 5.33 GB\n",
      "\n"
     ]
    },
    {
     "name": "stderr",
     "output_type": "stream",
     "text": [
      "2023-02-22 01:52:26.980608: I tensorflow/core/common_runtime/pluggable_device/pluggable_device_factory.cc:305] Could not identify NUMA node of platform GPU ID 0, defaulting to 0. Your kernel may not have been built with NUMA support.\n",
      "2023-02-22 01:52:26.980859: I tensorflow/core/common_runtime/pluggable_device/pluggable_device_factory.cc:271] Created TensorFlow device (/job:localhost/replica:0/task:0/device:GPU:0 with 0 MB memory) -> physical PluggableDevice (device: 0, name: METAL, pci bus id: <undefined>)\n"
     ]
    },
    {
     "name": "stdout",
     "output_type": "stream",
     "text": [
      "Epoch 1/200\n"
     ]
    },
    {
     "name": "stderr",
     "output_type": "stream",
     "text": [
      "2023-02-22 01:52:27.667869: W tensorflow/core/platform/profile_utils/cpu_utils.cc:128] Failed to get CPU frequency: 0 Hz\n",
      "2023-02-22 01:52:28.048621: I tensorflow/core/grappler/optimizers/custom_graph_optimizer_registry.cc:113] Plugin optimizer for device_type GPU is enabled.\n"
     ]
    },
    {
     "name": "stdout",
     "output_type": "stream",
     "text": [
      "1/1 - 2s - loss: 2.4886 - accuracy: 0.1818 - 2s/epoch - 2s/step\n",
      "Epoch 2/200\n",
      "1/1 - 0s - loss: 2.4750 - accuracy: 0.2727 - 41ms/epoch - 41ms/step\n",
      "Epoch 3/200\n",
      "1/1 - 0s - loss: 2.4615 - accuracy: 0.2727 - 40ms/epoch - 40ms/step\n",
      "Epoch 4/200\n",
      "1/1 - 0s - loss: 2.4481 - accuracy: 0.2727 - 39ms/epoch - 39ms/step\n",
      "Epoch 5/200\n",
      "1/1 - 0s - loss: 2.4345 - accuracy: 0.2727 - 70ms/epoch - 70ms/step\n",
      "Epoch 6/200\n",
      "1/1 - 0s - loss: 2.4208 - accuracy: 0.2727 - 39ms/epoch - 39ms/step\n",
      "Epoch 7/200\n",
      "1/1 - 0s - loss: 2.4068 - accuracy: 0.3636 - 45ms/epoch - 45ms/step\n",
      "Epoch 8/200\n",
      "1/1 - 0s - loss: 2.3924 - accuracy: 0.3636 - 53ms/epoch - 53ms/step\n",
      "Epoch 9/200\n",
      "1/1 - 0s - loss: 2.3775 - accuracy: 0.4545 - 42ms/epoch - 42ms/step\n",
      "Epoch 10/200\n",
      "1/1 - 0s - loss: 2.3621 - accuracy: 0.4545 - 36ms/epoch - 36ms/step\n",
      "Epoch 11/200\n",
      "1/1 - 0s - loss: 2.3461 - accuracy: 0.4545 - 42ms/epoch - 42ms/step\n",
      "Epoch 12/200\n",
      "1/1 - 0s - loss: 2.3293 - accuracy: 0.4545 - 40ms/epoch - 40ms/step\n",
      "Epoch 13/200\n",
      "1/1 - 0s - loss: 2.3117 - accuracy: 0.4545 - 62ms/epoch - 62ms/step\n",
      "Epoch 14/200\n",
      "1/1 - 0s - loss: 2.2932 - accuracy: 0.4545 - 49ms/epoch - 49ms/step\n",
      "Epoch 15/200\n",
      "1/1 - 0s - loss: 2.2738 - accuracy: 0.4545 - 47ms/epoch - 47ms/step\n",
      "Epoch 16/200\n",
      "1/1 - 0s - loss: 2.2533 - accuracy: 0.4545 - 37ms/epoch - 37ms/step\n",
      "Epoch 17/200\n",
      "1/1 - 0s - loss: 2.2318 - accuracy: 0.4545 - 42ms/epoch - 42ms/step\n",
      "Epoch 18/200\n",
      "1/1 - 0s - loss: 2.2091 - accuracy: 0.4545 - 39ms/epoch - 39ms/step\n",
      "Epoch 19/200\n",
      "1/1 - 0s - loss: 2.1854 - accuracy: 0.4545 - 38ms/epoch - 38ms/step\n",
      "Epoch 20/200\n",
      "1/1 - 0s - loss: 2.1605 - accuracy: 0.3636 - 40ms/epoch - 40ms/step\n",
      "Epoch 21/200\n",
      "1/1 - 0s - loss: 2.1344 - accuracy: 0.3636 - 39ms/epoch - 39ms/step\n",
      "Epoch 22/200\n",
      "1/1 - 0s - loss: 2.1074 - accuracy: 0.3636 - 41ms/epoch - 41ms/step\n",
      "Epoch 23/200\n",
      "1/1 - 0s - loss: 2.0795 - accuracy: 0.3636 - 40ms/epoch - 40ms/step\n",
      "Epoch 24/200\n",
      "1/1 - 0s - loss: 2.0509 - accuracy: 0.3636 - 41ms/epoch - 41ms/step\n",
      "Epoch 25/200\n",
      "1/1 - 0s - loss: 2.0217 - accuracy: 0.3636 - 37ms/epoch - 37ms/step\n",
      "Epoch 26/200\n",
      "1/1 - 0s - loss: 1.9924 - accuracy: 0.3636 - 39ms/epoch - 39ms/step\n",
      "Epoch 27/200\n",
      "1/1 - 0s - loss: 1.9632 - accuracy: 0.3636 - 50ms/epoch - 50ms/step\n",
      "Epoch 28/200\n",
      "1/1 - 0s - loss: 1.9346 - accuracy: 0.3636 - 39ms/epoch - 39ms/step\n",
      "Epoch 29/200\n",
      "1/1 - 0s - loss: 1.9071 - accuracy: 0.3636 - 39ms/epoch - 39ms/step\n",
      "Epoch 30/200\n",
      "1/1 - 0s - loss: 1.8810 - accuracy: 0.3636 - 38ms/epoch - 38ms/step\n",
      "Epoch 31/200\n",
      "1/1 - 0s - loss: 1.8568 - accuracy: 0.3636 - 38ms/epoch - 38ms/step\n",
      "Epoch 32/200\n",
      "1/1 - 0s - loss: 1.8349 - accuracy: 0.3636 - 39ms/epoch - 39ms/step\n",
      "Epoch 33/200\n",
      "1/1 - 0s - loss: 1.8153 - accuracy: 0.3636 - 38ms/epoch - 38ms/step\n",
      "Epoch 34/200\n",
      "1/1 - 0s - loss: 1.7980 - accuracy: 0.3636 - 38ms/epoch - 38ms/step\n",
      "Epoch 35/200\n",
      "1/1 - 0s - loss: 1.7827 - accuracy: 0.3636 - 39ms/epoch - 39ms/step\n",
      "Epoch 36/200\n",
      "1/1 - 0s - loss: 1.7688 - accuracy: 0.3636 - 38ms/epoch - 38ms/step\n",
      "Epoch 37/200\n",
      "1/1 - 0s - loss: 1.7556 - accuracy: 0.3636 - 40ms/epoch - 40ms/step\n",
      "Epoch 38/200\n",
      "1/1 - 0s - loss: 1.7425 - accuracy: 0.3636 - 40ms/epoch - 40ms/step\n",
      "Epoch 39/200\n",
      "1/1 - 0s - loss: 1.7288 - accuracy: 0.3636 - 40ms/epoch - 40ms/step\n",
      "Epoch 40/200\n",
      "1/1 - 0s - loss: 1.7142 - accuracy: 0.3636 - 42ms/epoch - 42ms/step\n",
      "Epoch 41/200\n",
      "1/1 - 0s - loss: 1.6984 - accuracy: 0.3636 - 39ms/epoch - 39ms/step\n",
      "Epoch 42/200\n",
      "1/1 - 0s - loss: 1.6815 - accuracy: 0.3636 - 40ms/epoch - 40ms/step\n",
      "Epoch 43/200\n",
      "1/1 - 0s - loss: 1.6635 - accuracy: 0.3636 - 59ms/epoch - 59ms/step\n",
      "Epoch 44/200\n",
      "1/1 - 0s - loss: 1.6447 - accuracy: 0.3636 - 44ms/epoch - 44ms/step\n",
      "Epoch 45/200\n",
      "1/1 - 0s - loss: 1.6254 - accuracy: 0.3636 - 40ms/epoch - 40ms/step\n",
      "Epoch 46/200\n",
      "1/1 - 0s - loss: 1.6058 - accuracy: 0.3636 - 38ms/epoch - 38ms/step\n",
      "Epoch 47/200\n",
      "1/1 - 0s - loss: 1.5861 - accuracy: 0.3636 - 46ms/epoch - 46ms/step\n",
      "Epoch 48/200\n",
      "1/1 - 0s - loss: 1.5666 - accuracy: 0.3636 - 39ms/epoch - 39ms/step\n",
      "Epoch 49/200\n",
      "1/1 - 0s - loss: 1.5474 - accuracy: 0.4545 - 39ms/epoch - 39ms/step\n",
      "Epoch 50/200\n",
      "1/1 - 0s - loss: 1.5284 - accuracy: 0.4545 - 40ms/epoch - 40ms/step\n",
      "Epoch 51/200\n",
      "1/1 - 0s - loss: 1.5098 - accuracy: 0.5455 - 37ms/epoch - 37ms/step\n",
      "Epoch 52/200\n",
      "1/1 - 0s - loss: 1.4914 - accuracy: 0.5455 - 39ms/epoch - 39ms/step\n",
      "Epoch 53/200\n",
      "1/1 - 0s - loss: 1.4733 - accuracy: 0.5455 - 40ms/epoch - 40ms/step\n",
      "Epoch 54/200\n",
      "1/1 - 0s - loss: 1.4554 - accuracy: 0.5455 - 42ms/epoch - 42ms/step\n",
      "Epoch 55/200\n",
      "1/1 - 0s - loss: 1.4375 - accuracy: 0.5455 - 43ms/epoch - 43ms/step\n",
      "Epoch 56/200\n",
      "1/1 - 0s - loss: 1.4197 - accuracy: 0.5455 - 40ms/epoch - 40ms/step\n",
      "Epoch 57/200\n",
      "1/1 - 0s - loss: 1.4019 - accuracy: 0.5455 - 43ms/epoch - 43ms/step\n",
      "Epoch 58/200\n",
      "1/1 - 0s - loss: 1.3842 - accuracy: 0.5455 - 40ms/epoch - 40ms/step\n",
      "Epoch 59/200\n",
      "1/1 - 0s - loss: 1.3664 - accuracy: 0.5455 - 39ms/epoch - 39ms/step\n",
      "Epoch 60/200\n",
      "1/1 - 0s - loss: 1.3487 - accuracy: 0.5455 - 40ms/epoch - 40ms/step\n",
      "Epoch 61/200\n",
      "1/1 - 0s - loss: 1.3309 - accuracy: 0.6364 - 39ms/epoch - 39ms/step\n",
      "Epoch 62/200\n",
      "1/1 - 0s - loss: 1.3133 - accuracy: 0.6364 - 38ms/epoch - 38ms/step\n",
      "Epoch 63/200\n",
      "1/1 - 0s - loss: 1.2956 - accuracy: 0.6364 - 39ms/epoch - 39ms/step\n",
      "Epoch 64/200\n",
      "1/1 - 0s - loss: 1.2781 - accuracy: 0.6364 - 38ms/epoch - 38ms/step\n",
      "Epoch 65/200\n",
      "1/1 - 0s - loss: 1.2605 - accuracy: 0.6364 - 37ms/epoch - 37ms/step\n",
      "Epoch 66/200\n",
      "1/1 - 0s - loss: 1.2431 - accuracy: 0.6364 - 38ms/epoch - 38ms/step\n",
      "Epoch 67/200\n",
      "1/1 - 0s - loss: 1.2256 - accuracy: 0.6364 - 38ms/epoch - 38ms/step\n",
      "Epoch 68/200\n",
      "1/1 - 0s - loss: 1.2082 - accuracy: 0.6364 - 39ms/epoch - 39ms/step\n",
      "Epoch 69/200\n",
      "1/1 - 0s - loss: 1.1908 - accuracy: 0.6364 - 46ms/epoch - 46ms/step\n",
      "Epoch 70/200\n",
      "1/1 - 0s - loss: 1.1735 - accuracy: 0.6364 - 44ms/epoch - 44ms/step\n",
      "Epoch 71/200\n",
      "1/1 - 0s - loss: 1.1561 - accuracy: 0.6364 - 60ms/epoch - 60ms/step\n",
      "Epoch 72/200\n",
      "1/1 - 0s - loss: 1.1387 - accuracy: 0.6364 - 59ms/epoch - 59ms/step\n",
      "Epoch 73/200\n",
      "1/1 - 0s - loss: 1.1213 - accuracy: 0.6364 - 49ms/epoch - 49ms/step\n",
      "Epoch 74/200\n",
      "1/1 - 0s - loss: 1.1040 - accuracy: 0.6364 - 38ms/epoch - 38ms/step\n",
      "Epoch 75/200\n",
      "1/1 - 0s - loss: 1.0867 - accuracy: 0.6364 - 35ms/epoch - 35ms/step\n",
      "Epoch 76/200\n",
      "1/1 - 0s - loss: 1.0694 - accuracy: 0.6364 - 38ms/epoch - 38ms/step\n",
      "Epoch 77/200\n",
      "1/1 - 0s - loss: 1.0521 - accuracy: 0.6364 - 44ms/epoch - 44ms/step\n",
      "Epoch 78/200\n",
      "1/1 - 0s - loss: 1.0350 - accuracy: 0.6364 - 40ms/epoch - 40ms/step\n",
      "Epoch 79/200\n",
      "1/1 - 0s - loss: 1.0179 - accuracy: 0.6364 - 37ms/epoch - 37ms/step\n",
      "Epoch 80/200\n",
      "1/1 - 0s - loss: 1.0009 - accuracy: 0.6364 - 35ms/epoch - 35ms/step\n",
      "Epoch 81/200\n",
      "1/1 - 0s - loss: 0.9841 - accuracy: 0.6364 - 36ms/epoch - 36ms/step\n",
      "Epoch 82/200\n",
      "1/1 - 0s - loss: 0.9674 - accuracy: 0.6364 - 34ms/epoch - 34ms/step\n",
      "Epoch 83/200\n",
      "1/1 - 0s - loss: 0.9508 - accuracy: 0.6364 - 36ms/epoch - 36ms/step\n",
      "Epoch 84/200\n",
      "1/1 - 0s - loss: 0.9344 - accuracy: 0.6364 - 37ms/epoch - 37ms/step\n",
      "Epoch 85/200\n",
      "1/1 - 0s - loss: 0.9182 - accuracy: 0.7273 - 37ms/epoch - 37ms/step\n",
      "Epoch 86/200\n",
      "1/1 - 0s - loss: 0.9023 - accuracy: 0.7273 - 38ms/epoch - 38ms/step\n",
      "Epoch 87/200\n",
      "1/1 - 0s - loss: 0.8865 - accuracy: 0.7273 - 36ms/epoch - 36ms/step\n",
      "Epoch 88/200\n",
      "1/1 - 0s - loss: 0.8710 - accuracy: 0.7273 - 36ms/epoch - 36ms/step\n",
      "Epoch 89/200\n",
      "1/1 - 0s - loss: 0.8558 - accuracy: 0.7273 - 37ms/epoch - 37ms/step\n",
      "Epoch 90/200\n",
      "1/1 - 0s - loss: 0.8408 - accuracy: 0.7273 - 39ms/epoch - 39ms/step\n",
      "Epoch 91/200\n",
      "1/1 - 0s - loss: 0.8261 - accuracy: 0.7273 - 40ms/epoch - 40ms/step\n",
      "Epoch 92/200\n",
      "1/1 - 0s - loss: 0.8117 - accuracy: 0.7273 - 36ms/epoch - 36ms/step\n",
      "Epoch 93/200\n",
      "1/1 - 0s - loss: 0.7976 - accuracy: 0.7273 - 35ms/epoch - 35ms/step\n",
      "Epoch 94/200\n",
      "1/1 - 0s - loss: 0.7838 - accuracy: 0.7273 - 37ms/epoch - 37ms/step\n",
      "Epoch 95/200\n",
      "1/1 - 0s - loss: 0.7702 - accuracy: 0.7273 - 38ms/epoch - 38ms/step\n",
      "Epoch 96/200\n",
      "1/1 - 0s - loss: 0.7570 - accuracy: 0.7273 - 36ms/epoch - 36ms/step\n",
      "Epoch 97/200\n",
      "1/1 - 0s - loss: 0.7439 - accuracy: 0.7273 - 38ms/epoch - 38ms/step\n",
      "Epoch 98/200\n",
      "1/1 - 0s - loss: 0.7312 - accuracy: 0.7273 - 38ms/epoch - 38ms/step\n",
      "Epoch 99/200\n",
      "1/1 - 0s - loss: 0.7186 - accuracy: 0.8182 - 36ms/epoch - 36ms/step\n",
      "Epoch 100/200\n",
      "1/1 - 0s - loss: 0.7063 - accuracy: 0.8182 - 39ms/epoch - 39ms/step\n",
      "Epoch 101/200\n",
      "1/1 - 0s - loss: 0.6942 - accuracy: 0.8182 - 42ms/epoch - 42ms/step\n",
      "Epoch 102/200\n",
      "1/1 - 0s - loss: 0.6824 - accuracy: 0.8182 - 39ms/epoch - 39ms/step\n",
      "Epoch 103/200\n",
      "1/1 - 0s - loss: 0.6707 - accuracy: 0.8182 - 39ms/epoch - 39ms/step\n",
      "Epoch 104/200\n",
      "1/1 - 0s - loss: 0.6592 - accuracy: 0.8182 - 38ms/epoch - 38ms/step\n",
      "Epoch 105/200\n",
      "1/1 - 0s - loss: 0.6479 - accuracy: 0.8182 - 41ms/epoch - 41ms/step\n",
      "Epoch 106/200\n",
      "1/1 - 0s - loss: 0.6368 - accuracy: 0.8182 - 39ms/epoch - 39ms/step\n",
      "Epoch 107/200\n",
      "1/1 - 0s - loss: 0.6258 - accuracy: 0.8182 - 38ms/epoch - 38ms/step\n",
      "Epoch 108/200\n",
      "1/1 - 0s - loss: 0.6150 - accuracy: 0.8182 - 37ms/epoch - 37ms/step\n",
      "Epoch 109/200\n",
      "1/1 - 0s - loss: 0.6043 - accuracy: 0.8182 - 58ms/epoch - 58ms/step\n",
      "Epoch 110/200\n",
      "1/1 - 0s - loss: 0.5938 - accuracy: 0.8182 - 43ms/epoch - 43ms/step\n",
      "Epoch 111/200\n",
      "1/1 - 0s - loss: 0.5835 - accuracy: 0.8182 - 38ms/epoch - 38ms/step\n",
      "Epoch 112/200\n",
      "1/1 - 0s - loss: 0.5733 - accuracy: 0.8182 - 38ms/epoch - 38ms/step\n",
      "Epoch 113/200\n",
      "1/1 - 0s - loss: 0.5632 - accuracy: 0.8182 - 37ms/epoch - 37ms/step\n",
      "Epoch 114/200\n",
      "1/1 - 0s - loss: 0.5533 - accuracy: 0.8182 - 36ms/epoch - 36ms/step\n",
      "Epoch 115/200\n",
      "1/1 - 0s - loss: 0.5435 - accuracy: 0.8182 - 37ms/epoch - 37ms/step\n",
      "Epoch 116/200\n",
      "1/1 - 0s - loss: 0.5339 - accuracy: 0.8182 - 40ms/epoch - 40ms/step\n",
      "Epoch 117/200\n",
      "1/1 - 0s - loss: 0.5244 - accuracy: 0.8182 - 35ms/epoch - 35ms/step\n",
      "Epoch 118/200\n",
      "1/1 - 0s - loss: 0.5150 - accuracy: 0.8182 - 37ms/epoch - 37ms/step\n",
      "Epoch 119/200\n",
      "1/1 - 0s - loss: 0.5058 - accuracy: 0.8182 - 45ms/epoch - 45ms/step\n",
      "Epoch 120/200\n",
      "1/1 - 0s - loss: 0.4967 - accuracy: 0.8182 - 37ms/epoch - 37ms/step\n",
      "Epoch 121/200\n",
      "1/1 - 0s - loss: 0.4877 - accuracy: 0.8182 - 43ms/epoch - 43ms/step\n",
      "Epoch 122/200\n",
      "1/1 - 0s - loss: 0.4789 - accuracy: 0.8182 - 39ms/epoch - 39ms/step\n",
      "Epoch 123/200\n",
      "1/1 - 0s - loss: 0.4702 - accuracy: 0.9091 - 39ms/epoch - 39ms/step\n",
      "Epoch 124/200\n",
      "1/1 - 0s - loss: 0.4616 - accuracy: 0.9091 - 41ms/epoch - 41ms/step\n",
      "Epoch 125/200\n",
      "1/1 - 0s - loss: 0.4532 - accuracy: 0.9091 - 35ms/epoch - 35ms/step\n",
      "Epoch 126/200\n",
      "1/1 - 0s - loss: 0.4449 - accuracy: 0.9091 - 33ms/epoch - 33ms/step\n",
      "Epoch 127/200\n",
      "1/1 - 0s - loss: 0.4368 - accuracy: 0.9091 - 39ms/epoch - 39ms/step\n",
      "Epoch 128/200\n",
      "1/1 - 0s - loss: 0.4288 - accuracy: 0.9091 - 38ms/epoch - 38ms/step\n",
      "Epoch 129/200\n",
      "1/1 - 0s - loss: 0.4209 - accuracy: 0.9091 - 39ms/epoch - 39ms/step\n",
      "Epoch 130/200\n",
      "1/1 - 0s - loss: 0.4132 - accuracy: 0.9091 - 36ms/epoch - 36ms/step\n",
      "Epoch 131/200\n",
      "1/1 - 0s - loss: 0.4055 - accuracy: 0.9091 - 37ms/epoch - 37ms/step\n",
      "Epoch 132/200\n",
      "1/1 - 0s - loss: 0.3980 - accuracy: 0.9091 - 37ms/epoch - 37ms/step\n",
      "Epoch 133/200\n",
      "1/1 - 0s - loss: 0.3907 - accuracy: 0.9091 - 39ms/epoch - 39ms/step\n",
      "Epoch 134/200\n",
      "1/1 - 0s - loss: 0.3834 - accuracy: 0.9091 - 36ms/epoch - 36ms/step\n",
      "Epoch 135/200\n",
      "1/1 - 0s - loss: 0.3763 - accuracy: 0.9091 - 32ms/epoch - 32ms/step\n",
      "Epoch 136/200\n",
      "1/1 - 0s - loss: 0.3693 - accuracy: 0.9091 - 40ms/epoch - 40ms/step\n",
      "Epoch 137/200\n",
      "1/1 - 0s - loss: 0.3624 - accuracy: 0.9091 - 39ms/epoch - 39ms/step\n",
      "Epoch 138/200\n",
      "1/1 - 0s - loss: 0.3557 - accuracy: 0.9091 - 36ms/epoch - 36ms/step\n",
      "Epoch 139/200\n",
      "1/1 - 0s - loss: 0.3491 - accuracy: 0.9091 - 37ms/epoch - 37ms/step\n",
      "Epoch 140/200\n",
      "1/1 - 0s - loss: 0.3426 - accuracy: 0.9091 - 39ms/epoch - 39ms/step\n",
      "Epoch 141/200\n",
      "1/1 - 0s - loss: 0.3362 - accuracy: 0.9091 - 37ms/epoch - 37ms/step\n",
      "Epoch 142/200\n",
      "1/1 - 0s - loss: 0.3299 - accuracy: 0.9091 - 34ms/epoch - 34ms/step\n",
      "Epoch 143/200\n",
      "1/1 - 0s - loss: 0.3238 - accuracy: 0.9091 - 39ms/epoch - 39ms/step\n",
      "Epoch 144/200\n",
      "1/1 - 0s - loss: 0.3177 - accuracy: 0.9091 - 37ms/epoch - 37ms/step\n",
      "Epoch 145/200\n",
      "1/1 - 0s - loss: 0.3118 - accuracy: 1.0000 - 41ms/epoch - 41ms/step\n",
      "Epoch 146/200\n",
      "1/1 - 0s - loss: 0.3060 - accuracy: 1.0000 - 37ms/epoch - 37ms/step\n",
      "Epoch 147/200\n",
      "1/1 - 0s - loss: 0.3003 - accuracy: 1.0000 - 38ms/epoch - 38ms/step\n",
      "Epoch 148/200\n",
      "1/1 - 0s - loss: 0.2947 - accuracy: 1.0000 - 38ms/epoch - 38ms/step\n",
      "Epoch 149/200\n",
      "1/1 - 0s - loss: 0.2892 - accuracy: 1.0000 - 40ms/epoch - 40ms/step\n",
      "Epoch 150/200\n",
      "1/1 - 0s - loss: 0.2839 - accuracy: 1.0000 - 37ms/epoch - 37ms/step\n",
      "Epoch 151/200\n",
      "1/1 - 0s - loss: 0.2786 - accuracy: 1.0000 - 47ms/epoch - 47ms/step\n",
      "Epoch 152/200\n",
      "1/1 - 0s - loss: 0.2734 - accuracy: 1.0000 - 39ms/epoch - 39ms/step\n",
      "Epoch 153/200\n",
      "1/1 - 0s - loss: 0.2684 - accuracy: 1.0000 - 40ms/epoch - 40ms/step\n",
      "Epoch 154/200\n",
      "1/1 - 0s - loss: 0.2634 - accuracy: 1.0000 - 38ms/epoch - 38ms/step\n",
      "Epoch 155/200\n",
      "1/1 - 0s - loss: 0.2586 - accuracy: 1.0000 - 55ms/epoch - 55ms/step\n",
      "Epoch 156/200\n",
      "1/1 - 0s - loss: 0.2539 - accuracy: 1.0000 - 46ms/epoch - 46ms/step\n",
      "Epoch 157/200\n",
      "1/1 - 0s - loss: 0.2492 - accuracy: 1.0000 - 36ms/epoch - 36ms/step\n",
      "Epoch 158/200\n",
      "1/1 - 0s - loss: 0.2446 - accuracy: 1.0000 - 38ms/epoch - 38ms/step\n",
      "Epoch 159/200\n",
      "1/1 - 0s - loss: 0.2402 - accuracy: 1.0000 - 38ms/epoch - 38ms/step\n",
      "Epoch 160/200\n",
      "1/1 - 0s - loss: 0.2358 - accuracy: 1.0000 - 38ms/epoch - 38ms/step\n",
      "Epoch 161/200\n",
      "1/1 - 0s - loss: 0.2315 - accuracy: 1.0000 - 36ms/epoch - 36ms/step\n",
      "Epoch 162/200\n",
      "1/1 - 0s - loss: 0.2274 - accuracy: 1.0000 - 38ms/epoch - 38ms/step\n",
      "Epoch 163/200\n",
      "1/1 - 0s - loss: 0.2232 - accuracy: 1.0000 - 37ms/epoch - 37ms/step\n",
      "Epoch 164/200\n",
      "1/1 - 0s - loss: 0.2192 - accuracy: 1.0000 - 38ms/epoch - 38ms/step\n",
      "Epoch 165/200\n",
      "1/1 - 0s - loss: 0.2153 - accuracy: 1.0000 - 36ms/epoch - 36ms/step\n",
      "Epoch 166/200\n",
      "1/1 - 0s - loss: 0.2114 - accuracy: 1.0000 - 38ms/epoch - 38ms/step\n",
      "Epoch 167/200\n",
      "1/1 - 0s - loss: 0.2077 - accuracy: 1.0000 - 39ms/epoch - 39ms/step\n",
      "Epoch 168/200\n",
      "1/1 - 0s - loss: 0.2040 - accuracy: 1.0000 - 37ms/epoch - 37ms/step\n",
      "Epoch 169/200\n",
      "1/1 - 0s - loss: 0.2004 - accuracy: 1.0000 - 39ms/epoch - 39ms/step\n",
      "Epoch 170/200\n",
      "1/1 - 0s - loss: 0.1968 - accuracy: 1.0000 - 39ms/epoch - 39ms/step\n",
      "Epoch 171/200\n",
      "1/1 - 0s - loss: 0.1934 - accuracy: 1.0000 - 37ms/epoch - 37ms/step\n",
      "Epoch 172/200\n",
      "1/1 - 0s - loss: 0.1900 - accuracy: 1.0000 - 37ms/epoch - 37ms/step\n",
      "Epoch 173/200\n",
      "1/1 - 0s - loss: 0.1866 - accuracy: 1.0000 - 40ms/epoch - 40ms/step\n",
      "Epoch 174/200\n",
      "1/1 - 0s - loss: 0.1834 - accuracy: 1.0000 - 37ms/epoch - 37ms/step\n",
      "Epoch 175/200\n",
      "1/1 - 0s - loss: 0.1802 - accuracy: 1.0000 - 36ms/epoch - 36ms/step\n",
      "Epoch 176/200\n",
      "1/1 - 0s - loss: 0.1771 - accuracy: 1.0000 - 37ms/epoch - 37ms/step\n",
      "Epoch 177/200\n",
      "1/1 - 0s - loss: 0.1740 - accuracy: 1.0000 - 36ms/epoch - 36ms/step\n",
      "Epoch 178/200\n",
      "1/1 - 0s - loss: 0.1710 - accuracy: 1.0000 - 41ms/epoch - 41ms/step\n",
      "Epoch 179/200\n",
      "1/1 - 0s - loss: 0.1681 - accuracy: 1.0000 - 38ms/epoch - 38ms/step\n",
      "Epoch 180/200\n",
      "1/1 - 0s - loss: 0.1652 - accuracy: 1.0000 - 40ms/epoch - 40ms/step\n",
      "Epoch 181/200\n",
      "1/1 - 0s - loss: 0.1624 - accuracy: 1.0000 - 39ms/epoch - 39ms/step\n",
      "Epoch 182/200\n",
      "1/1 - 0s - loss: 0.1596 - accuracy: 1.0000 - 43ms/epoch - 43ms/step\n",
      "Epoch 183/200\n",
      "1/1 - 0s - loss: 0.1569 - accuracy: 1.0000 - 39ms/epoch - 39ms/step\n",
      "Epoch 184/200\n",
      "1/1 - 0s - loss: 0.1542 - accuracy: 1.0000 - 40ms/epoch - 40ms/step\n",
      "Epoch 185/200\n",
      "1/1 - 0s - loss: 0.1516 - accuracy: 1.0000 - 38ms/epoch - 38ms/step\n",
      "Epoch 186/200\n",
      "1/1 - 0s - loss: 0.1491 - accuracy: 1.0000 - 34ms/epoch - 34ms/step\n",
      "Epoch 187/200\n",
      "1/1 - 0s - loss: 0.1466 - accuracy: 1.0000 - 37ms/epoch - 37ms/step\n",
      "Epoch 188/200\n",
      "1/1 - 0s - loss: 0.1442 - accuracy: 1.0000 - 38ms/epoch - 38ms/step\n",
      "Epoch 189/200\n",
      "1/1 - 0s - loss: 0.1418 - accuracy: 1.0000 - 37ms/epoch - 37ms/step\n",
      "Epoch 190/200\n",
      "1/1 - 0s - loss: 0.1394 - accuracy: 1.0000 - 35ms/epoch - 35ms/step\n",
      "Epoch 191/200\n",
      "1/1 - 0s - loss: 0.1371 - accuracy: 1.0000 - 39ms/epoch - 39ms/step\n",
      "Epoch 192/200\n",
      "1/1 - 0s - loss: 0.1348 - accuracy: 1.0000 - 38ms/epoch - 38ms/step\n",
      "Epoch 193/200\n",
      "1/1 - 0s - loss: 0.1326 - accuracy: 1.0000 - 35ms/epoch - 35ms/step\n",
      "Epoch 194/200\n",
      "1/1 - 0s - loss: 0.1305 - accuracy: 1.0000 - 36ms/epoch - 36ms/step\n",
      "Epoch 195/200\n",
      "1/1 - 0s - loss: 0.1283 - accuracy: 1.0000 - 39ms/epoch - 39ms/step\n",
      "Epoch 196/200\n",
      "1/1 - 0s - loss: 0.1262 - accuracy: 1.0000 - 37ms/epoch - 37ms/step\n",
      "Epoch 197/200\n",
      "1/1 - 0s - loss: 0.1242 - accuracy: 1.0000 - 38ms/epoch - 38ms/step\n",
      "Epoch 198/200\n",
      "1/1 - 0s - loss: 0.1222 - accuracy: 1.0000 - 39ms/epoch - 39ms/step\n",
      "Epoch 199/200\n",
      "1/1 - 0s - loss: 0.1202 - accuracy: 1.0000 - 36ms/epoch - 36ms/step\n",
      "Epoch 200/200\n",
      "1/1 - 0s - loss: 0.1183 - accuracy: 1.0000 - 37ms/epoch - 37ms/step\n"
     ]
    },
    {
     "data": {
      "text/plain": [
       "<keras.callbacks.History at 0x158ed0c40>"
      ]
     },
     "execution_count": 30,
     "metadata": {},
     "output_type": "execute_result"
    }
   ],
   "source": [
    "# 하이퍼파라미터 : embedding_dim = 10, hidden_units = 32\n",
    "embedding_dim = 10\n",
    "hidden_units = 32\n",
    "\n",
    "# 다대일 RNN\n",
    "# 마지막 단어를 예측하는 다중 클래스 분류 모델\n",
    "# 활성화 함수 : 소프트맥스 함수\n",
    "# 손실 함수 : 크로스 엔트로피 함수\n",
    "model = Sequential()\n",
    "model.add(Embedding(vocab_size, embedding_dim))\n",
    "model.add(SimpleRNN(hidden_units))\n",
    "model.add(Dense(vocab_size, activation='softmax'))\n",
    "model.compile(loss='categorical_crossentropy', optimizer='adam', metrics=['accuracy'])\n",
    "model.fit(X, y, epochs=200, verbose=2)"
   ]
  },
  {
   "attachments": {},
   "cell_type": "markdown",
   "metadata": {},
   "source": [
    "## 문장 생성 함수"
   ]
  },
  {
   "cell_type": "code",
   "execution_count": 31,
   "metadata": {},
   "outputs": [],
   "source": [
    "def sentence_generation(model, tokenizer, current_word, n):\n",
    "    init_word = current_word\n",
    "    sentence = ''\n",
    "\n",
    "    # n번 반복\n",
    "    for _ in range(n):\n",
    "        # 현재 단어에 대한 정수 인코딩과 패딩\n",
    "        encoded = tokenizer.texts_to_sequences([current_word])[0]\n",
    "        encoded = pad_sequences([encoded], maxlen=5, padding='pre')\n",
    "\n",
    "        # encoding 값을 이용하여 다음 단어 y를 예측 \n",
    "        result = model.predict(encoded, verbose=0)\n",
    "\n",
    "        # 확률이 가장 높은 단어의 index\n",
    "        result = np.argmax(result, axis=1)\n",
    "\n",
    "        for word, index in tokenizer.word_index.items():\n",
    "            # 인덱스가 동일한 단어가 있다면 word 할당, break\n",
    "            if index == result:\n",
    "                break\n",
    "\n",
    "        # 현재 단어 + ' ' + 예측 단어\n",
    "        current_word = current_word + ' ' + word\n",
    "\n",
    "        # 예측 단어를 문장에 저장\n",
    "        sentence = sentence + ' ' + word\n",
    "    \n",
    "    sentence = init_word + sentence\n",
    "    return sentence"
   ]
  },
  {
   "cell_type": "code",
   "execution_count": 32,
   "metadata": {},
   "outputs": [
    {
     "name": "stderr",
     "output_type": "stream",
     "text": [
      "2023-02-22 02:04:44.691586: I tensorflow/core/grappler/optimizers/custom_graph_optimizer_registry.cc:113] Plugin optimizer for device_type GPU is enabled.\n"
     ]
    },
    {
     "name": "stdout",
     "output_type": "stream",
     "text": [
      "경마장에 있는 말이 뛰고 있다\n"
     ]
    }
   ],
   "source": [
    "print(sentence_generation(model, tokenizer, '경마장에', 4))"
   ]
  },
  {
   "cell_type": "code",
   "execution_count": 33,
   "metadata": {},
   "outputs": [
    {
     "name": "stdout",
     "output_type": "stream",
     "text": [
      "그의 말이 법이다\n"
     ]
    }
   ],
   "source": [
    "print(sentence_generation(model, tokenizer, '그의', 2))"
   ]
  },
  {
   "cell_type": "code",
   "execution_count": 34,
   "metadata": {},
   "outputs": [
    {
     "name": "stdout",
     "output_type": "stream",
     "text": [
      "가는 말이 고와야 오는 말이 곱다\n"
     ]
    }
   ],
   "source": [
    "print(sentence_generation(model, tokenizer, '가는', 5))"
   ]
  },
  {
   "attachments": {},
   "cell_type": "markdown",
   "metadata": {},
   "source": [
    "## LSTM을 이용한 텍스트 생성"
   ]
  },
  {
   "cell_type": "code",
   "execution_count": 35,
   "metadata": {},
   "outputs": [],
   "source": [
    "import pandas as pd\n",
    "import numpy as np\n",
    "from string import punctuation\n",
    "\n",
    "from tensorflow.keras.preprocessing.text import Tokenizer\n",
    "from tensorflow.keras.preprocessing.sequence import pad_sequences\n",
    "from tensorflow.keras.utils import to_categorical"
   ]
  },
  {
   "cell_type": "code",
   "execution_count": 38,
   "metadata": {},
   "outputs": [
    {
     "data": {
      "text/html": [
       "<div>\n",
       "<style scoped>\n",
       "    .dataframe tbody tr th:only-of-type {\n",
       "        vertical-align: middle;\n",
       "    }\n",
       "\n",
       "    .dataframe tbody tr th {\n",
       "        vertical-align: top;\n",
       "    }\n",
       "\n",
       "    .dataframe thead th {\n",
       "        text-align: right;\n",
       "    }\n",
       "</style>\n",
       "<table border=\"1\" class=\"dataframe\">\n",
       "  <thead>\n",
       "    <tr style=\"text-align: right;\">\n",
       "      <th></th>\n",
       "      <th>articleID</th>\n",
       "      <th>articleWordCount</th>\n",
       "      <th>byline</th>\n",
       "      <th>documentType</th>\n",
       "      <th>headline</th>\n",
       "      <th>keywords</th>\n",
       "      <th>multimedia</th>\n",
       "      <th>newDesk</th>\n",
       "      <th>printPage</th>\n",
       "      <th>pubDate</th>\n",
       "      <th>sectionName</th>\n",
       "      <th>snippet</th>\n",
       "      <th>source</th>\n",
       "      <th>typeOfMaterial</th>\n",
       "      <th>webURL</th>\n",
       "    </tr>\n",
       "  </thead>\n",
       "  <tbody>\n",
       "    <tr>\n",
       "      <th>0</th>\n",
       "      <td>5adf6684068401528a2aa69b</td>\n",
       "      <td>781</td>\n",
       "      <td>By JOHN BRANCH</td>\n",
       "      <td>article</td>\n",
       "      <td>Former N.F.L. Cheerleaders’ Settlement Offer: ...</td>\n",
       "      <td>['Workplace Hazards and Violations', 'Football...</td>\n",
       "      <td>68</td>\n",
       "      <td>Sports</td>\n",
       "      <td>0</td>\n",
       "      <td>2018-04-24 17:16:49</td>\n",
       "      <td>Pro Football</td>\n",
       "      <td>“I understand that they could meet with us, pa...</td>\n",
       "      <td>The New York Times</td>\n",
       "      <td>News</td>\n",
       "      <td>https://www.nytimes.com/2018/04/24/sports/foot...</td>\n",
       "    </tr>\n",
       "    <tr>\n",
       "      <th>1</th>\n",
       "      <td>5adf653f068401528a2aa697</td>\n",
       "      <td>656</td>\n",
       "      <td>By LISA FRIEDMAN</td>\n",
       "      <td>article</td>\n",
       "      <td>E.P.A. to Unveil a New Rule. Its Effect: Less ...</td>\n",
       "      <td>['Environmental Protection Agency', 'Pruitt, S...</td>\n",
       "      <td>68</td>\n",
       "      <td>Climate</td>\n",
       "      <td>0</td>\n",
       "      <td>2018-04-24 17:11:21</td>\n",
       "      <td>Unknown</td>\n",
       "      <td>The agency plans to publish a new regulation T...</td>\n",
       "      <td>The New York Times</td>\n",
       "      <td>News</td>\n",
       "      <td>https://www.nytimes.com/2018/04/24/climate/epa...</td>\n",
       "    </tr>\n",
       "    <tr>\n",
       "      <th>2</th>\n",
       "      <td>5adf4626068401528a2aa628</td>\n",
       "      <td>2427</td>\n",
       "      <td>By PETE WELLS</td>\n",
       "      <td>article</td>\n",
       "      <td>The New Noma, Explained</td>\n",
       "      <td>['Restaurants', 'Noma (Copenhagen, Restaurant)...</td>\n",
       "      <td>66</td>\n",
       "      <td>Dining</td>\n",
       "      <td>0</td>\n",
       "      <td>2018-04-24 14:58:44</td>\n",
       "      <td>Unknown</td>\n",
       "      <td>What’s it like to eat at the second incarnatio...</td>\n",
       "      <td>The New York Times</td>\n",
       "      <td>News</td>\n",
       "      <td>https://www.nytimes.com/2018/04/24/dining/noma...</td>\n",
       "    </tr>\n",
       "    <tr>\n",
       "      <th>3</th>\n",
       "      <td>5adf40d2068401528a2aa619</td>\n",
       "      <td>626</td>\n",
       "      <td>By JULIE HIRSCHFELD DAVIS and PETER BAKER</td>\n",
       "      <td>article</td>\n",
       "      <td>Unknown</td>\n",
       "      <td>['Macron, Emmanuel (1977- )', 'Trump, Donald J...</td>\n",
       "      <td>68</td>\n",
       "      <td>Washington</td>\n",
       "      <td>0</td>\n",
       "      <td>2018-04-24 14:35:57</td>\n",
       "      <td>Europe</td>\n",
       "      <td>President Trump welcomed President Emmanuel Ma...</td>\n",
       "      <td>The New York Times</td>\n",
       "      <td>News</td>\n",
       "      <td>https://www.nytimes.com/2018/04/24/world/europ...</td>\n",
       "    </tr>\n",
       "    <tr>\n",
       "      <th>4</th>\n",
       "      <td>5adf3d64068401528a2aa60f</td>\n",
       "      <td>815</td>\n",
       "      <td>By IAN AUSTEN and DAN BILEFSKY</td>\n",
       "      <td>article</td>\n",
       "      <td>Unknown</td>\n",
       "      <td>['Toronto, Ontario, Attack (April, 2018)', 'Mu...</td>\n",
       "      <td>68</td>\n",
       "      <td>Foreign</td>\n",
       "      <td>0</td>\n",
       "      <td>2018-04-24 14:21:21</td>\n",
       "      <td>Canada</td>\n",
       "      <td>Alek Minassian, 25, a resident of Toronto’s Ri...</td>\n",
       "      <td>The New York Times</td>\n",
       "      <td>News</td>\n",
       "      <td>https://www.nytimes.com/2018/04/24/world/canad...</td>\n",
       "    </tr>\n",
       "  </tbody>\n",
       "</table>\n",
       "</div>"
      ],
      "text/plain": [
       "                  articleID  articleWordCount  \\\n",
       "0  5adf6684068401528a2aa69b               781   \n",
       "1  5adf653f068401528a2aa697               656   \n",
       "2  5adf4626068401528a2aa628              2427   \n",
       "3  5adf40d2068401528a2aa619               626   \n",
       "4  5adf3d64068401528a2aa60f               815   \n",
       "\n",
       "                                      byline documentType  \\\n",
       "0                             By JOHN BRANCH      article   \n",
       "1                           By LISA FRIEDMAN      article   \n",
       "2                              By PETE WELLS      article   \n",
       "3  By JULIE HIRSCHFELD DAVIS and PETER BAKER      article   \n",
       "4             By IAN AUSTEN and DAN BILEFSKY      article   \n",
       "\n",
       "                                            headline  \\\n",
       "0  Former N.F.L. Cheerleaders’ Settlement Offer: ...   \n",
       "1  E.P.A. to Unveil a New Rule. Its Effect: Less ...   \n",
       "2                            The New Noma, Explained   \n",
       "3                                            Unknown   \n",
       "4                                            Unknown   \n",
       "\n",
       "                                            keywords  multimedia     newDesk  \\\n",
       "0  ['Workplace Hazards and Violations', 'Football...          68      Sports   \n",
       "1  ['Environmental Protection Agency', 'Pruitt, S...          68     Climate   \n",
       "2  ['Restaurants', 'Noma (Copenhagen, Restaurant)...          66      Dining   \n",
       "3  ['Macron, Emmanuel (1977- )', 'Trump, Donald J...          68  Washington   \n",
       "4  ['Toronto, Ontario, Attack (April, 2018)', 'Mu...          68     Foreign   \n",
       "\n",
       "   printPage              pubDate   sectionName  \\\n",
       "0          0  2018-04-24 17:16:49  Pro Football   \n",
       "1          0  2018-04-24 17:11:21       Unknown   \n",
       "2          0  2018-04-24 14:58:44       Unknown   \n",
       "3          0  2018-04-24 14:35:57        Europe   \n",
       "4          0  2018-04-24 14:21:21        Canada   \n",
       "\n",
       "                                             snippet              source  \\\n",
       "0  “I understand that they could meet with us, pa...  The New York Times   \n",
       "1  The agency plans to publish a new regulation T...  The New York Times   \n",
       "2  What’s it like to eat at the second incarnatio...  The New York Times   \n",
       "3  President Trump welcomed President Emmanuel Ma...  The New York Times   \n",
       "4  Alek Minassian, 25, a resident of Toronto’s Ri...  The New York Times   \n",
       "\n",
       "  typeOfMaterial                                             webURL  \n",
       "0           News  https://www.nytimes.com/2018/04/24/sports/foot...  \n",
       "1           News  https://www.nytimes.com/2018/04/24/climate/epa...  \n",
       "2           News  https://www.nytimes.com/2018/04/24/dining/noma...  \n",
       "3           News  https://www.nytimes.com/2018/04/24/world/europ...  \n",
       "4           News  https://www.nytimes.com/2018/04/24/world/canad...  "
      ]
     },
     "execution_count": 38,
     "metadata": {},
     "output_type": "execute_result"
    }
   ],
   "source": [
    "df = pd.read_csv('../../data/ArticlesApril2018.csv')\n",
    "df.head()"
   ]
  },
  {
   "cell_type": "code",
   "execution_count": 87,
   "metadata": {},
   "outputs": [
    {
     "name": "stdout",
     "output_type": "stream",
     "text": [
      "열의 개수:  15\n",
      "Index(['articleID', 'articleWordCount', 'byline', 'documentType', 'headline',\n",
      "       'keywords', 'multimedia', 'newDesk', 'printPage', 'pubDate',\n",
      "       'sectionName', 'snippet', 'source', 'typeOfMaterial', 'webURL'],\n",
      "      dtype='object')\n"
     ]
    }
   ],
   "source": [
    "print('열의 개수: ',len(df.columns))\n",
    "print(df.columns)"
   ]
  },
  {
   "cell_type": "code",
   "execution_count": 88,
   "metadata": {},
   "outputs": [
    {
     "name": "stdout",
     "output_type": "stream",
     "text": [
      "False\n"
     ]
    }
   ],
   "source": [
    "# 열의 제목에 Null 값이 있는지 확인\n",
    "print(df['headline'].isnull().values.any())"
   ]
  },
  {
   "cell_type": "code",
   "execution_count": 89,
   "metadata": {},
   "outputs": [
    {
     "data": {
      "text/plain": [
       "['Former N.F.L. Cheerleaders’ Settlement Offer: $1 and a Meeting With Goodell',\n",
       " 'E.P.A. to Unveil a New Rule. Its Effect: Less Science in Policymaking.',\n",
       " 'The New Noma, Explained',\n",
       " 'Unknown',\n",
       " 'Unknown']"
      ]
     },
     "execution_count": 89,
     "metadata": {},
     "output_type": "execute_result"
    }
   ],
   "source": [
    "# 헤드라인의 값들을 리스트로 저장\n",
    "headline = df['headline'].values.tolist()\n",
    "headline[:5]"
   ]
  },
  {
   "cell_type": "code",
   "execution_count": 90,
   "metadata": {},
   "outputs": [
    {
     "name": "stdout",
     "output_type": "stream",
     "text": [
      "총 샘플의 개수 : 1324\n"
     ]
    }
   ],
   "source": [
    "print(f'총 샘플의 개수 : {len(headline)}')"
   ]
  },
  {
   "cell_type": "code",
   "execution_count": 91,
   "metadata": {},
   "outputs": [
    {
     "name": "stdout",
     "output_type": "stream",
     "text": [
      "노이즈값 제거 후 샘플의 개수 : 1214\n"
     ]
    },
    {
     "data": {
      "text/plain": [
       "['Former N.F.L. Cheerleaders’ Settlement Offer: $1 and a Meeting With Goodell',\n",
       " 'E.P.A. to Unveil a New Rule. Its Effect: Less Science in Policymaking.',\n",
       " 'The New Noma, Explained',\n",
       " 'How a Bag of Texas Dirt  Became a Times Tradition',\n",
       " 'Is School a Place for Self-Expression?']"
      ]
     },
     "execution_count": 91,
     "metadata": {},
     "output_type": "execute_result"
    }
   ],
   "source": [
    "# \"Unknown\" 데이터 제거\n",
    "headline = [word for word in headline if word != \"Unknown\"]\n",
    "print(f'노이즈값 제거 후 샘플의 개수 : {len(headline)}')\n",
    "headline[:5]"
   ]
  },
  {
   "cell_type": "code",
   "execution_count": 92,
   "metadata": {},
   "outputs": [
    {
     "data": {
      "text/plain": [
       "['former nfl cheerleaders settlement offer 1 and a meeting with goodell',\n",
       " 'epa to unveil a new rule its effect less science in policymaking',\n",
       " 'the new noma explained',\n",
       " 'how a bag of texas dirt  became a times tradition',\n",
       " 'is school a place for selfexpression']"
      ]
     },
     "execution_count": 92,
     "metadata": {},
     "output_type": "execute_result"
    }
   ],
   "source": [
    "def repreprocessing(raw_sentence):\n",
    "    '''\n",
    "    구두점 제거, 소문자화를 진행하는 전처리 함수\n",
    "    '''\n",
    "    preproceseed_sentence = raw_sentence.encode(\"utf8\").decode(\"ascii\",'ignore')\n",
    "    return ''.join(word for word in preproceseed_sentence if word not in punctuation).lower()\n",
    "\n",
    "preprocessed_headline = [repreprocessing(x) for x in headline]\n",
    "preprocessed_headline[:5]"
   ]
  },
  {
   "cell_type": "code",
   "execution_count": 93,
   "metadata": {},
   "outputs": [
    {
     "name": "stdout",
     "output_type": "stream",
     "text": [
      "단어 집합의 크기 : 3494\n"
     ]
    }
   ],
   "source": [
    "tokenizer = Tokenizer()\n",
    "tokenizer.fit_on_texts(preprocessed_headline)\n",
    "\n",
    "vocab_size = len(tokenizer.word_index) + 1\n",
    "print(f'단어 집합의 크기 : {vocab_size}')"
   ]
  },
  {
   "cell_type": "code",
   "execution_count": 94,
   "metadata": {},
   "outputs": [
    {
     "data": {
      "text/plain": [
       "[[99, 269],\n",
       " [99, 269, 371],\n",
       " [99, 269, 371, 1115],\n",
       " [99, 269, 371, 1115, 582],\n",
       " [99, 269, 371, 1115, 582, 52],\n",
       " [99, 269, 371, 1115, 582, 52, 7],\n",
       " [99, 269, 371, 1115, 582, 52, 7, 2],\n",
       " [99, 269, 371, 1115, 582, 52, 7, 2, 372],\n",
       " [99, 269, 371, 1115, 582, 52, 7, 2, 372, 10],\n",
       " [99, 269, 371, 1115, 582, 52, 7, 2, 372, 10, 1116],\n",
       " [100, 3]]"
      ]
     },
     "execution_count": 94,
     "metadata": {},
     "output_type": "execute_result"
    }
   ],
   "source": [
    "sequences = list()\n",
    "\n",
    "for sentence in preprocessed_headline:\n",
    "\n",
    "    # 각 샘플에 대한 정수 인코딩\n",
    "    encoded = tokenizer.texts_to_sequences([sentence])[0] \n",
    "    for i in range(1, len(encoded)):\n",
    "        sequence = encoded[:i+1]\n",
    "        sequences.append(sequence)\n",
    "\n",
    "sequences[:11]"
   ]
  },
  {
   "cell_type": "code",
   "execution_count": 95,
   "metadata": {},
   "outputs": [
    {
     "name": "stdout",
     "output_type": "stream",
     "text": [
      "샘플의 최대 길이 : 24\n",
      "샘플의 최대 길이 : 24\n"
     ]
    }
   ],
   "source": [
    "max_len = max(len(l) for l in sequences)\n",
    "print(f'샘플의 최대 길이 : {max_len}')\n",
    "print('샘플의 최대 길이 :', len(max(sequences, key=len)))"
   ]
  },
  {
   "cell_type": "code",
   "execution_count": 96,
   "metadata": {},
   "outputs": [
    {
     "name": "stdout",
     "output_type": "stream",
     "text": [
      "[[   0    0    0    0    0    0    0    0    0    0    0    0    0    0\n",
      "     0    0    0    0    0    0    0    0   99  269]\n",
      " [   0    0    0    0    0    0    0    0    0    0    0    0    0    0\n",
      "     0    0    0    0    0    0    0   99  269  371]\n",
      " [   0    0    0    0    0    0    0    0    0    0    0    0    0    0\n",
      "     0    0    0    0    0    0   99  269  371 1115]]\n"
     ]
    }
   ],
   "source": [
    "sequences = pad_sequences(sequences, maxlen=max_len, padding='pre')\n",
    "print(sequences[:3])"
   ]
  },
  {
   "cell_type": "code",
   "execution_count": 97,
   "metadata": {},
   "outputs": [
    {
     "name": "stdout",
     "output_type": "stream",
     "text": [
      "[[  0   0   0   0   0   0   0   0   0   0   0   0   0   0   0   0   0   0\n",
      "    0   0   0   0  99]\n",
      " [  0   0   0   0   0   0   0   0   0   0   0   0   0   0   0   0   0   0\n",
      "    0   0   0  99 269]\n",
      " [  0   0   0   0   0   0   0   0   0   0   0   0   0   0   0   0   0   0\n",
      "    0   0  99 269 371]]\n",
      "[ 269  371 1115]\n"
     ]
    }
   ],
   "source": [
    "# 가장 우측 단어 label로 분리\n",
    "sequences = np.array(sequences)\n",
    "X = sequences[:,:-1]\n",
    "y = sequences[:,-1]\n",
    "\n",
    "print(X[:3])\n",
    "print(y[:3])"
   ]
  },
  {
   "cell_type": "code",
   "execution_count": 98,
   "metadata": {},
   "outputs": [
    {
     "data": {
      "text/plain": [
       "array([[0., 0., 0., ..., 0., 0., 0.],\n",
       "       [0., 0., 0., ..., 0., 0., 0.],\n",
       "       [0., 0., 0., ..., 0., 0., 0.],\n",
       "       ...,\n",
       "       [0., 0., 0., ..., 0., 0., 0.],\n",
       "       [0., 0., 1., ..., 0., 0., 0.],\n",
       "       [0., 0., 0., ..., 0., 0., 0.]], dtype=float32)"
      ]
     },
     "execution_count": 98,
     "metadata": {},
     "output_type": "execute_result"
    }
   ],
   "source": [
    "# label y one-hot encoding\n",
    "y = to_categorical(y, num_classes=vocab_size)\n",
    "y"
   ]
  },
  {
   "attachments": {},
   "cell_type": "markdown",
   "metadata": {},
   "source": [
    "## 모델링"
   ]
  },
  {
   "cell_type": "code",
   "execution_count": 99,
   "metadata": {},
   "outputs": [],
   "source": [
    "from tensorflow.keras.models import Sequential\n",
    "from tensorflow.keras.layers import Embedding, Dense, LSTM"
   ]
  },
  {
   "cell_type": "code",
   "execution_count": 100,
   "metadata": {},
   "outputs": [
    {
     "name": "stdout",
     "output_type": "stream",
     "text": [
      "Epoch 1/200\n"
     ]
    },
    {
     "name": "stderr",
     "output_type": "stream",
     "text": [
      "2023-02-22 02:25:20.044260: I tensorflow/core/grappler/optimizers/custom_graph_optimizer_registry.cc:113] Plugin optimizer for device_type GPU is enabled.\n",
      "2023-02-22 02:25:20.209649: I tensorflow/core/grappler/optimizers/custom_graph_optimizer_registry.cc:113] Plugin optimizer for device_type GPU is enabled.\n",
      "2023-02-22 02:25:21.310343: I tensorflow/core/grappler/optimizers/custom_graph_optimizer_registry.cc:113] Plugin optimizer for device_type GPU is enabled.\n"
     ]
    },
    {
     "name": "stdout",
     "output_type": "stream",
     "text": [
      "244/244 - 8s - loss: 7.6596 - accuracy: 0.0246 - 8s/epoch - 32ms/step\n",
      "Epoch 2/200\n",
      "244/244 - 4s - loss: 7.1113 - accuracy: 0.0291 - 4s/epoch - 18ms/step\n",
      "Epoch 3/200\n",
      "244/244 - 4s - loss: 6.9803 - accuracy: 0.0338 - 4s/epoch - 18ms/step\n",
      "Epoch 4/200\n",
      "244/244 - 4s - loss: 6.8678 - accuracy: 0.0388 - 4s/epoch - 18ms/step\n",
      "Epoch 5/200\n",
      "244/244 - 4s - loss: 6.7345 - accuracy: 0.0432 - 4s/epoch - 18ms/step\n",
      "Epoch 6/200\n",
      "244/244 - 4s - loss: 6.5714 - accuracy: 0.0452 - 4s/epoch - 17ms/step\n",
      "Epoch 7/200\n",
      "244/244 - 4s - loss: 6.3905 - accuracy: 0.0525 - 4s/epoch - 18ms/step\n",
      "Epoch 8/200\n",
      "244/244 - 4s - loss: 6.1938 - accuracy: 0.0566 - 4s/epoch - 17ms/step\n",
      "Epoch 9/200\n",
      "244/244 - 4s - loss: 5.9938 - accuracy: 0.0591 - 4s/epoch - 18ms/step\n",
      "Epoch 10/200\n",
      "244/244 - 4s - loss: 5.8010 - accuracy: 0.0666 - 4s/epoch - 18ms/step\n",
      "Epoch 11/200\n",
      "244/244 - 4s - loss: 5.6194 - accuracy: 0.0704 - 4s/epoch - 18ms/step\n",
      "Epoch 12/200\n",
      "244/244 - 5s - loss: 5.4489 - accuracy: 0.0763 - 5s/epoch - 19ms/step\n",
      "Epoch 13/200\n",
      "244/244 - 5s - loss: 5.2861 - accuracy: 0.0804 - 5s/epoch - 20ms/step\n",
      "Epoch 14/200\n",
      "244/244 - 5s - loss: 5.1296 - accuracy: 0.0902 - 5s/epoch - 19ms/step\n",
      "Epoch 15/200\n",
      "244/244 - 4s - loss: 4.9825 - accuracy: 0.0978 - 4s/epoch - 18ms/step\n",
      "Epoch 16/200\n",
      "244/244 - 5s - loss: 4.8428 - accuracy: 0.1078 - 5s/epoch - 21ms/step\n",
      "Epoch 17/200\n",
      "244/244 - 5s - loss: 4.7058 - accuracy: 0.1193 - 5s/epoch - 19ms/step\n",
      "Epoch 18/200\n",
      "244/244 - 4s - loss: 4.5788 - accuracy: 0.1312 - 4s/epoch - 18ms/step\n",
      "Epoch 19/200\n",
      "244/244 - 5s - loss: 4.4563 - accuracy: 0.1490 - 5s/epoch - 19ms/step\n",
      "Epoch 20/200\n",
      "244/244 - 4s - loss: 4.3333 - accuracy: 0.1643 - 4s/epoch - 18ms/step\n",
      "Epoch 21/200\n",
      "244/244 - 4s - loss: 4.2170 - accuracy: 0.1774 - 4s/epoch - 18ms/step\n",
      "Epoch 22/200\n",
      "244/244 - 4s - loss: 4.1060 - accuracy: 0.1967 - 4s/epoch - 18ms/step\n",
      "Epoch 23/200\n",
      "244/244 - 4s - loss: 3.9930 - accuracy: 0.2108 - 4s/epoch - 18ms/step\n",
      "Epoch 24/200\n",
      "244/244 - 4s - loss: 3.8900 - accuracy: 0.2271 - 4s/epoch - 18ms/step\n",
      "Epoch 25/200\n",
      "244/244 - 4s - loss: 3.7862 - accuracy: 0.2445 - 4s/epoch - 18ms/step\n",
      "Epoch 26/200\n",
      "244/244 - 4s - loss: 3.6886 - accuracy: 0.2664 - 4s/epoch - 18ms/step\n",
      "Epoch 27/200\n",
      "244/244 - 4s - loss: 3.5938 - accuracy: 0.2800 - 4s/epoch - 18ms/step\n",
      "Epoch 28/200\n",
      "244/244 - 4s - loss: 3.5009 - accuracy: 0.2966 - 4s/epoch - 18ms/step\n",
      "Epoch 29/200\n",
      "244/244 - 4s - loss: 3.4122 - accuracy: 0.3145 - 4s/epoch - 18ms/step\n",
      "Epoch 30/200\n",
      "244/244 - 4s - loss: 3.3248 - accuracy: 0.3299 - 4s/epoch - 18ms/step\n",
      "Epoch 31/200\n",
      "244/244 - 4s - loss: 3.2420 - accuracy: 0.3446 - 4s/epoch - 18ms/step\n",
      "Epoch 32/200\n",
      "244/244 - 4s - loss: 3.1637 - accuracy: 0.3631 - 4s/epoch - 18ms/step\n",
      "Epoch 33/200\n",
      "244/244 - 4s - loss: 3.0822 - accuracy: 0.3784 - 4s/epoch - 18ms/step\n",
      "Epoch 34/200\n",
      "244/244 - 4s - loss: 3.0085 - accuracy: 0.3890 - 4s/epoch - 18ms/step\n",
      "Epoch 35/200\n",
      "244/244 - 4s - loss: 2.9375 - accuracy: 0.4051 - 4s/epoch - 18ms/step\n",
      "Epoch 36/200\n",
      "244/244 - 14s - loss: 2.8684 - accuracy: 0.4197 - 14s/epoch - 59ms/step\n",
      "Epoch 37/200\n",
      "244/244 - 7s - loss: 2.7980 - accuracy: 0.4327 - 7s/epoch - 28ms/step\n",
      "Epoch 38/200\n",
      "244/244 - 5s - loss: 2.7336 - accuracy: 0.4457 - 5s/epoch - 20ms/step\n",
      "Epoch 39/200\n",
      "244/244 - 9s - loss: 2.6741 - accuracy: 0.4569 - 9s/epoch - 38ms/step\n",
      "Epoch 40/200\n",
      "244/244 - 5s - loss: 2.6095 - accuracy: 0.4685 - 5s/epoch - 22ms/step\n",
      "Epoch 41/200\n",
      "244/244 - 4s - loss: 2.5515 - accuracy: 0.4793 - 4s/epoch - 18ms/step\n",
      "Epoch 42/200\n",
      "244/244 - 4s - loss: 2.4915 - accuracy: 0.4922 - 4s/epoch - 18ms/step\n",
      "Epoch 43/200\n",
      "244/244 - 4s - loss: 2.4359 - accuracy: 0.5042 - 4s/epoch - 18ms/step\n",
      "Epoch 44/200\n",
      "244/244 - 4s - loss: 2.3811 - accuracy: 0.5122 - 4s/epoch - 18ms/step\n",
      "Epoch 45/200\n",
      "244/244 - 4s - loss: 2.3256 - accuracy: 0.5248 - 4s/epoch - 18ms/step\n",
      "Epoch 46/200\n",
      "244/244 - 4s - loss: 2.2751 - accuracy: 0.5311 - 4s/epoch - 18ms/step\n",
      "Epoch 47/200\n",
      "244/244 - 4s - loss: 2.2250 - accuracy: 0.5452 - 4s/epoch - 18ms/step\n",
      "Epoch 48/200\n",
      "244/244 - 4s - loss: 2.1752 - accuracy: 0.5573 - 4s/epoch - 18ms/step\n",
      "Epoch 49/200\n",
      "244/244 - 4s - loss: 2.1262 - accuracy: 0.5615 - 4s/epoch - 18ms/step\n",
      "Epoch 50/200\n",
      "244/244 - 4s - loss: 2.0801 - accuracy: 0.5752 - 4s/epoch - 18ms/step\n",
      "Epoch 51/200\n",
      "244/244 - 4s - loss: 2.0343 - accuracy: 0.5868 - 4s/epoch - 18ms/step\n",
      "Epoch 52/200\n",
      "244/244 - 4s - loss: 1.9900 - accuracy: 0.5905 - 4s/epoch - 18ms/step\n",
      "Epoch 53/200\n",
      "244/244 - 4s - loss: 1.9487 - accuracy: 0.6008 - 4s/epoch - 18ms/step\n",
      "Epoch 54/200\n",
      "244/244 - 4s - loss: 1.9030 - accuracy: 0.6127 - 4s/epoch - 18ms/step\n",
      "Epoch 55/200\n",
      "244/244 - 5s - loss: 1.8628 - accuracy: 0.6182 - 5s/epoch - 19ms/step\n",
      "Epoch 56/200\n",
      "244/244 - 5s - loss: 1.8213 - accuracy: 0.6309 - 5s/epoch - 20ms/step\n",
      "Epoch 57/200\n",
      "244/244 - 5s - loss: 1.7827 - accuracy: 0.6381 - 5s/epoch - 19ms/step\n",
      "Epoch 58/200\n",
      "244/244 - 4s - loss: 1.7382 - accuracy: 0.6473 - 4s/epoch - 18ms/step\n",
      "Epoch 59/200\n",
      "244/244 - 5s - loss: 1.7016 - accuracy: 0.6601 - 5s/epoch - 19ms/step\n",
      "Epoch 60/200\n",
      "244/244 - 5s - loss: 1.6625 - accuracy: 0.6645 - 5s/epoch - 20ms/step\n",
      "Epoch 61/200\n",
      "244/244 - 5s - loss: 1.6266 - accuracy: 0.6695 - 5s/epoch - 20ms/step\n",
      "Epoch 62/200\n",
      "244/244 - 4s - loss: 1.5897 - accuracy: 0.6818 - 4s/epoch - 18ms/step\n",
      "Epoch 63/200\n",
      "244/244 - 5s - loss: 1.5563 - accuracy: 0.6874 - 5s/epoch - 20ms/step\n",
      "Epoch 64/200\n",
      "244/244 - 5s - loss: 1.5192 - accuracy: 0.6937 - 5s/epoch - 20ms/step\n",
      "Epoch 65/200\n",
      "244/244 - 5s - loss: 1.4849 - accuracy: 0.7028 - 5s/epoch - 19ms/step\n",
      "Epoch 66/200\n",
      "244/244 - 4s - loss: 1.4519 - accuracy: 0.7110 - 4s/epoch - 18ms/step\n",
      "Epoch 67/200\n",
      "244/244 - 4s - loss: 1.4193 - accuracy: 0.7184 - 4s/epoch - 18ms/step\n",
      "Epoch 68/200\n",
      "244/244 - 5s - loss: 1.3876 - accuracy: 0.7232 - 5s/epoch - 19ms/step\n",
      "Epoch 69/200\n",
      "244/244 - 4s - loss: 1.3588 - accuracy: 0.7277 - 4s/epoch - 18ms/step\n",
      "Epoch 70/200\n",
      "244/244 - 5s - loss: 1.3251 - accuracy: 0.7337 - 5s/epoch - 19ms/step\n",
      "Epoch 71/200\n",
      "244/244 - 5s - loss: 1.2952 - accuracy: 0.7418 - 5s/epoch - 19ms/step\n",
      "Epoch 72/200\n",
      "244/244 - 5s - loss: 1.2651 - accuracy: 0.7478 - 5s/epoch - 19ms/step\n",
      "Epoch 73/200\n",
      "244/244 - 5s - loss: 1.2374 - accuracy: 0.7527 - 5s/epoch - 19ms/step\n",
      "Epoch 74/200\n",
      "244/244 - 5s - loss: 1.2103 - accuracy: 0.7612 - 5s/epoch - 19ms/step\n",
      "Epoch 75/200\n",
      "244/244 - 5s - loss: 1.1808 - accuracy: 0.7657 - 5s/epoch - 19ms/step\n",
      "Epoch 76/200\n",
      "244/244 - 5s - loss: 1.1550 - accuracy: 0.7725 - 5s/epoch - 19ms/step\n",
      "Epoch 77/200\n",
      "244/244 - 5s - loss: 1.1274 - accuracy: 0.7776 - 5s/epoch - 20ms/step\n",
      "Epoch 78/200\n",
      "244/244 - 4s - loss: 1.1014 - accuracy: 0.7815 - 4s/epoch - 18ms/step\n",
      "Epoch 79/200\n",
      "244/244 - 5s - loss: 1.0783 - accuracy: 0.7884 - 5s/epoch - 18ms/step\n",
      "Epoch 80/200\n",
      "244/244 - 4s - loss: 1.0531 - accuracy: 0.7915 - 4s/epoch - 18ms/step\n",
      "Epoch 81/200\n",
      "244/244 - 5s - loss: 1.0277 - accuracy: 0.7975 - 5s/epoch - 19ms/step\n",
      "Epoch 82/200\n",
      "244/244 - 4s - loss: 1.0053 - accuracy: 0.7998 - 4s/epoch - 18ms/step\n",
      "Epoch 83/200\n",
      "244/244 - 4s - loss: 0.9830 - accuracy: 0.8065 - 4s/epoch - 18ms/step\n",
      "Epoch 84/200\n",
      "244/244 - 5s - loss: 0.9595 - accuracy: 0.8084 - 5s/epoch - 19ms/step\n",
      "Epoch 85/200\n",
      "244/244 - 4s - loss: 0.9403 - accuracy: 0.8157 - 4s/epoch - 18ms/step\n",
      "Epoch 86/200\n",
      "244/244 - 4s - loss: 0.9173 - accuracy: 0.8189 - 4s/epoch - 18ms/step\n",
      "Epoch 87/200\n",
      "244/244 - 4s - loss: 0.8965 - accuracy: 0.8226 - 4s/epoch - 18ms/step\n",
      "Epoch 88/200\n",
      "244/244 - 5s - loss: 0.8778 - accuracy: 0.8258 - 5s/epoch - 19ms/step\n",
      "Epoch 89/200\n",
      "244/244 - 4s - loss: 0.8593 - accuracy: 0.8316 - 4s/epoch - 18ms/step\n",
      "Epoch 90/200\n",
      "244/244 - 4s - loss: 0.8427 - accuracy: 0.8340 - 4s/epoch - 18ms/step\n",
      "Epoch 91/200\n",
      "244/244 - 4s - loss: 0.8211 - accuracy: 0.8404 - 4s/epoch - 18ms/step\n",
      "Epoch 92/200\n",
      "244/244 - 5s - loss: 0.8016 - accuracy: 0.8421 - 5s/epoch - 19ms/step\n",
      "Epoch 93/200\n",
      "244/244 - 5s - loss: 0.7916 - accuracy: 0.8438 - 5s/epoch - 19ms/step\n",
      "Epoch 94/200\n",
      "244/244 - 5s - loss: 0.7682 - accuracy: 0.8490 - 5s/epoch - 19ms/step\n",
      "Epoch 95/200\n",
      "244/244 - 5s - loss: 0.7499 - accuracy: 0.8543 - 5s/epoch - 19ms/step\n",
      "Epoch 96/200\n",
      "244/244 - 5s - loss: 0.7346 - accuracy: 0.8565 - 5s/epoch - 19ms/step\n",
      "Epoch 97/200\n",
      "244/244 - 4s - loss: 0.7163 - accuracy: 0.8601 - 4s/epoch - 18ms/step\n",
      "Epoch 98/200\n",
      "244/244 - 4s - loss: 0.7010 - accuracy: 0.8627 - 4s/epoch - 18ms/step\n",
      "Epoch 99/200\n",
      "244/244 - 5s - loss: 0.6906 - accuracy: 0.8661 - 5s/epoch - 19ms/step\n",
      "Epoch 100/200\n",
      "244/244 - 5s - loss: 0.6754 - accuracy: 0.8690 - 5s/epoch - 19ms/step\n",
      "Epoch 101/200\n",
      "244/244 - 5s - loss: 0.6591 - accuracy: 0.8712 - 5s/epoch - 20ms/step\n",
      "Epoch 102/200\n",
      "244/244 - 5s - loss: 0.6432 - accuracy: 0.8725 - 5s/epoch - 19ms/step\n",
      "Epoch 103/200\n",
      "244/244 - 4s - loss: 0.6353 - accuracy: 0.8731 - 4s/epoch - 18ms/step\n",
      "Epoch 104/200\n",
      "244/244 - 5s - loss: 0.6205 - accuracy: 0.8790 - 5s/epoch - 21ms/step\n",
      "Epoch 105/200\n",
      "244/244 - 5s - loss: 0.6063 - accuracy: 0.8813 - 5s/epoch - 19ms/step\n",
      "Epoch 106/200\n",
      "244/244 - 5s - loss: 0.5908 - accuracy: 0.8835 - 5s/epoch - 19ms/step\n",
      "Epoch 107/200\n",
      "244/244 - 5s - loss: 0.5790 - accuracy: 0.8838 - 5s/epoch - 19ms/step\n",
      "Epoch 108/200\n",
      "244/244 - 5s - loss: 0.5698 - accuracy: 0.8876 - 5s/epoch - 19ms/step\n",
      "Epoch 109/200\n",
      "244/244 - 5s - loss: 0.5613 - accuracy: 0.8880 - 5s/epoch - 18ms/step\n",
      "Epoch 110/200\n",
      "244/244 - 4s - loss: 0.5450 - accuracy: 0.8931 - 4s/epoch - 18ms/step\n",
      "Epoch 111/200\n",
      "244/244 - 5s - loss: 0.5342 - accuracy: 0.8925 - 5s/epoch - 19ms/step\n",
      "Epoch 112/200\n",
      "244/244 - 5s - loss: 0.5229 - accuracy: 0.8949 - 5s/epoch - 18ms/step\n",
      "Epoch 113/200\n",
      "244/244 - 4s - loss: 0.5123 - accuracy: 0.8981 - 4s/epoch - 18ms/step\n",
      "Epoch 114/200\n",
      "244/244 - 4s - loss: 0.5017 - accuracy: 0.8991 - 4s/epoch - 18ms/step\n",
      "Epoch 115/200\n",
      "244/244 - 5s - loss: 0.4942 - accuracy: 0.8998 - 5s/epoch - 19ms/step\n",
      "Epoch 116/200\n",
      "244/244 - 4s - loss: 0.4832 - accuracy: 0.9007 - 4s/epoch - 18ms/step\n",
      "Epoch 117/200\n",
      "244/244 - 5s - loss: 0.4741 - accuracy: 0.9040 - 5s/epoch - 20ms/step\n",
      "Epoch 118/200\n",
      "244/244 - 5s - loss: 0.4684 - accuracy: 0.9047 - 5s/epoch - 19ms/step\n",
      "Epoch 119/200\n",
      "244/244 - 5s - loss: 0.4604 - accuracy: 0.9062 - 5s/epoch - 19ms/step\n",
      "Epoch 120/200\n",
      "244/244 - 5s - loss: 0.4501 - accuracy: 0.9075 - 5s/epoch - 19ms/step\n",
      "Epoch 121/200\n",
      "244/244 - 5s - loss: 0.4410 - accuracy: 0.9071 - 5s/epoch - 19ms/step\n",
      "Epoch 122/200\n",
      "244/244 - 5s - loss: 0.4318 - accuracy: 0.9073 - 5s/epoch - 19ms/step\n",
      "Epoch 123/200\n",
      "244/244 - 5s - loss: 0.4251 - accuracy: 0.9100 - 5s/epoch - 19ms/step\n",
      "Epoch 124/200\n",
      "244/244 - 4s - loss: 0.4177 - accuracy: 0.9095 - 4s/epoch - 18ms/step\n",
      "Epoch 125/200\n",
      "244/244 - 4s - loss: 0.4113 - accuracy: 0.9097 - 4s/epoch - 18ms/step\n",
      "Epoch 126/200\n",
      "244/244 - 4s - loss: 0.4109 - accuracy: 0.9108 - 4s/epoch - 18ms/step\n",
      "Epoch 127/200\n",
      "244/244 - 5s - loss: 0.4022 - accuracy: 0.9095 - 5s/epoch - 20ms/step\n",
      "Epoch 128/200\n",
      "244/244 - 5s - loss: 0.3994 - accuracy: 0.9104 - 5s/epoch - 18ms/step\n",
      "Epoch 129/200\n",
      "244/244 - 5s - loss: 0.3891 - accuracy: 0.9109 - 5s/epoch - 19ms/step\n",
      "Epoch 130/200\n",
      "244/244 - 5s - loss: 0.3809 - accuracy: 0.9136 - 5s/epoch - 20ms/step\n",
      "Epoch 131/200\n",
      "244/244 - 5s - loss: 0.3749 - accuracy: 0.9136 - 5s/epoch - 19ms/step\n",
      "Epoch 132/200\n",
      "244/244 - 5s - loss: 0.3690 - accuracy: 0.9143 - 5s/epoch - 19ms/step\n",
      "Epoch 133/200\n",
      "244/244 - 5s - loss: 0.3644 - accuracy: 0.9155 - 5s/epoch - 20ms/step\n",
      "Epoch 134/200\n",
      "244/244 - 5s - loss: 0.3646 - accuracy: 0.9135 - 5s/epoch - 21ms/step\n",
      "Epoch 135/200\n",
      "244/244 - 5s - loss: 0.3952 - accuracy: 0.9073 - 5s/epoch - 20ms/step\n",
      "Epoch 136/200\n",
      "244/244 - 4s - loss: 0.3606 - accuracy: 0.9149 - 4s/epoch - 18ms/step\n",
      "Epoch 137/200\n",
      "244/244 - 4s - loss: 0.3500 - accuracy: 0.9141 - 4s/epoch - 18ms/step\n",
      "Epoch 138/200\n",
      "244/244 - 4s - loss: 0.3441 - accuracy: 0.9162 - 4s/epoch - 18ms/step\n",
      "Epoch 139/200\n",
      "244/244 - 5s - loss: 0.3387 - accuracy: 0.9162 - 5s/epoch - 19ms/step\n",
      "Epoch 140/200\n",
      "244/244 - 5s - loss: 0.3351 - accuracy: 0.9150 - 5s/epoch - 20ms/step\n",
      "Epoch 141/200\n",
      "244/244 - 5s - loss: 0.3312 - accuracy: 0.9179 - 5s/epoch - 20ms/step\n",
      "Epoch 142/200\n",
      "244/244 - 5s - loss: 0.3298 - accuracy: 0.9163 - 5s/epoch - 21ms/step\n",
      "Epoch 143/200\n",
      "244/244 - 5s - loss: 0.3276 - accuracy: 0.9166 - 5s/epoch - 20ms/step\n",
      "Epoch 144/200\n",
      "244/244 - 5s - loss: 0.3261 - accuracy: 0.9149 - 5s/epoch - 19ms/step\n",
      "Epoch 145/200\n",
      "244/244 - 5s - loss: 0.3215 - accuracy: 0.9158 - 5s/epoch - 19ms/step\n",
      "Epoch 146/200\n",
      "244/244 - 5s - loss: 0.3197 - accuracy: 0.9172 - 5s/epoch - 19ms/step\n",
      "Epoch 147/200\n",
      "244/244 - 5s - loss: 0.3158 - accuracy: 0.9155 - 5s/epoch - 19ms/step\n",
      "Epoch 148/200\n",
      "244/244 - 5s - loss: 0.3132 - accuracy: 0.9159 - 5s/epoch - 20ms/step\n",
      "Epoch 149/200\n",
      "244/244 - 5s - loss: 0.3111 - accuracy: 0.9173 - 5s/epoch - 19ms/step\n",
      "Epoch 150/200\n",
      "244/244 - 5s - loss: 0.3096 - accuracy: 0.9158 - 5s/epoch - 19ms/step\n",
      "Epoch 151/200\n",
      "244/244 - 5s - loss: 0.3084 - accuracy: 0.9161 - 5s/epoch - 19ms/step\n",
      "Epoch 152/200\n",
      "244/244 - 5s - loss: 0.3070 - accuracy: 0.9163 - 5s/epoch - 19ms/step\n",
      "Epoch 153/200\n",
      "244/244 - 5s - loss: 0.3043 - accuracy: 0.9171 - 5s/epoch - 20ms/step\n",
      "Epoch 154/200\n",
      "244/244 - 4s - loss: 0.3268 - accuracy: 0.9122 - 4s/epoch - 18ms/step\n",
      "Epoch 155/200\n",
      "244/244 - 5s - loss: 0.3168 - accuracy: 0.9159 - 5s/epoch - 21ms/step\n",
      "Epoch 156/200\n",
      "244/244 - 5s - loss: 0.3045 - accuracy: 0.9167 - 5s/epoch - 19ms/step\n",
      "Epoch 157/200\n",
      "244/244 - 5s - loss: 0.2947 - accuracy: 0.9158 - 5s/epoch - 19ms/step\n",
      "Epoch 158/200\n",
      "244/244 - 4s - loss: 0.2917 - accuracy: 0.9163 - 4s/epoch - 18ms/step\n",
      "Epoch 159/200\n",
      "244/244 - 5s - loss: 0.2897 - accuracy: 0.9176 - 5s/epoch - 19ms/step\n",
      "Epoch 160/200\n",
      "244/244 - 5s - loss: 0.2903 - accuracy: 0.9167 - 5s/epoch - 19ms/step\n",
      "Epoch 161/200\n",
      "244/244 - 5s - loss: 0.2884 - accuracy: 0.9158 - 5s/epoch - 20ms/step\n",
      "Epoch 162/200\n",
      "244/244 - 5s - loss: 0.2873 - accuracy: 0.9167 - 5s/epoch - 20ms/step\n",
      "Epoch 163/200\n",
      "244/244 - 6s - loss: 0.2854 - accuracy: 0.9175 - 6s/epoch - 24ms/step\n",
      "Epoch 164/200\n",
      "244/244 - 4s - loss: 0.2857 - accuracy: 0.9155 - 4s/epoch - 18ms/step\n",
      "Epoch 165/200\n",
      "244/244 - 5s - loss: 0.2848 - accuracy: 0.9157 - 5s/epoch - 20ms/step\n",
      "Epoch 166/200\n",
      "244/244 - 5s - loss: 0.2842 - accuracy: 0.9159 - 5s/epoch - 19ms/step\n",
      "Epoch 167/200\n",
      "244/244 - 4s - loss: 0.2821 - accuracy: 0.9157 - 4s/epoch - 18ms/step\n",
      "Epoch 168/200\n",
      "244/244 - 4s - loss: 0.2813 - accuracy: 0.9164 - 4s/epoch - 18ms/step\n",
      "Epoch 169/200\n",
      "244/244 - 5s - loss: 0.2805 - accuracy: 0.9159 - 5s/epoch - 19ms/step\n",
      "Epoch 170/200\n",
      "244/244 - 6s - loss: 0.2890 - accuracy: 0.9134 - 6s/epoch - 24ms/step\n",
      "Epoch 171/200\n",
      "244/244 - 5s - loss: 0.3209 - accuracy: 0.9107 - 5s/epoch - 19ms/step\n",
      "Epoch 172/200\n",
      "244/244 - 4s - loss: 0.2937 - accuracy: 0.9152 - 4s/epoch - 18ms/step\n",
      "Epoch 173/200\n",
      "244/244 - 5s - loss: 0.2805 - accuracy: 0.9162 - 5s/epoch - 19ms/step\n",
      "Epoch 174/200\n",
      "244/244 - 5s - loss: 0.2765 - accuracy: 0.9170 - 5s/epoch - 20ms/step\n",
      "Epoch 175/200\n",
      "244/244 - 5s - loss: 0.2760 - accuracy: 0.9166 - 5s/epoch - 20ms/step\n",
      "Epoch 176/200\n",
      "244/244 - 5s - loss: 0.2754 - accuracy: 0.9148 - 5s/epoch - 20ms/step\n",
      "Epoch 177/200\n",
      "244/244 - 4s - loss: 0.2742 - accuracy: 0.9170 - 4s/epoch - 18ms/step\n",
      "Epoch 178/200\n",
      "244/244 - 5s - loss: 0.2736 - accuracy: 0.9162 - 5s/epoch - 20ms/step\n",
      "Epoch 179/200\n",
      "244/244 - 5s - loss: 0.2726 - accuracy: 0.9167 - 5s/epoch - 19ms/step\n",
      "Epoch 180/200\n",
      "244/244 - 5s - loss: 0.2710 - accuracy: 0.9172 - 5s/epoch - 20ms/step\n",
      "Epoch 181/200\n",
      "244/244 - 5s - loss: 0.2706 - accuracy: 0.9173 - 5s/epoch - 21ms/step\n",
      "Epoch 182/200\n",
      "244/244 - 5s - loss: 0.2702 - accuracy: 0.9170 - 5s/epoch - 19ms/step\n",
      "Epoch 183/200\n",
      "244/244 - 5s - loss: 0.2692 - accuracy: 0.9175 - 5s/epoch - 19ms/step\n",
      "Epoch 184/200\n",
      "244/244 - 5s - loss: 0.2690 - accuracy: 0.9179 - 5s/epoch - 19ms/step\n",
      "Epoch 185/200\n",
      "244/244 - 4s - loss: 0.2691 - accuracy: 0.9159 - 4s/epoch - 18ms/step\n",
      "Epoch 186/200\n",
      "244/244 - 4s - loss: 0.2682 - accuracy: 0.9177 - 4s/epoch - 18ms/step\n",
      "Epoch 187/200\n",
      "244/244 - 4s - loss: 0.2688 - accuracy: 0.9155 - 4s/epoch - 18ms/step\n",
      "Epoch 188/200\n",
      "244/244 - 5s - loss: 0.2681 - accuracy: 0.9176 - 5s/epoch - 20ms/step\n",
      "Epoch 189/200\n",
      "244/244 - 5s - loss: 0.2679 - accuracy: 0.9158 - 5s/epoch - 19ms/step\n",
      "Epoch 190/200\n",
      "244/244 - 4s - loss: 0.2662 - accuracy: 0.9168 - 4s/epoch - 18ms/step\n",
      "Epoch 191/200\n",
      "244/244 - 4s - loss: 0.2663 - accuracy: 0.9162 - 4s/epoch - 18ms/step\n",
      "Epoch 192/200\n",
      "244/244 - 4s - loss: 0.2658 - accuracy: 0.9171 - 4s/epoch - 18ms/step\n",
      "Epoch 193/200\n",
      "244/244 - 4s - loss: 0.2656 - accuracy: 0.9153 - 4s/epoch - 18ms/step\n",
      "Epoch 194/200\n",
      "244/244 - 5s - loss: 0.2649 - accuracy: 0.9168 - 5s/epoch - 18ms/step\n",
      "Epoch 195/200\n",
      "244/244 - 4s - loss: 0.2641 - accuracy: 0.9163 - 4s/epoch - 18ms/step\n",
      "Epoch 196/200\n",
      "244/244 - 4s - loss: 0.2738 - accuracy: 0.9141 - 4s/epoch - 18ms/step\n",
      "Epoch 197/200\n",
      "244/244 - 5s - loss: 0.2933 - accuracy: 0.9107 - 5s/epoch - 19ms/step\n",
      "Epoch 198/200\n",
      "244/244 - 6s - loss: 0.2722 - accuracy: 0.9163 - 6s/epoch - 23ms/step\n",
      "Epoch 199/200\n",
      "244/244 - 5s - loss: 0.2659 - accuracy: 0.9158 - 5s/epoch - 19ms/step\n",
      "Epoch 200/200\n",
      "244/244 - 4s - loss: 0.2626 - accuracy: 0.9168 - 4s/epoch - 18ms/step\n"
     ]
    },
    {
     "data": {
      "text/plain": [
       "<keras.callbacks.History at 0x29167b820>"
      ]
     },
     "execution_count": 100,
     "metadata": {},
     "output_type": "execute_result"
    }
   ],
   "source": [
    "embedding_dim = 10\n",
    "hidden_units = 128\n",
    "\n",
    "model = Sequential()\n",
    "model.add(Embedding(vocab_size, embedding_dim))\n",
    "model.add(LSTM(hidden_units))\n",
    "model.add(Dense(vocab_size, activation='softmax'))\n",
    "model.compile(loss='categorical_crossentropy', optimizer='adam', metrics=['accuracy'])\n",
    "model.fit(X, y, epochs=200, verbose=2)"
   ]
  },
  {
   "cell_type": "code",
   "execution_count": 101,
   "metadata": {},
   "outputs": [],
   "source": [
    "# 문장 생성 함수\n",
    "def sentence_generation(model, tokenizer, current_word, n):\n",
    "    init_word = current_word\n",
    "    sentence = ''\n",
    "\n",
    "    for _ in range(n):\n",
    "        encoded = tokenizer.texts_to_sequences([current_word])[0]\n",
    "        encoded = pad_sequences([encoded], maxlen=max_len-1, padding='pre')\n",
    "        \n",
    "        result = model.predict(encoded, verbose=0)\n",
    "        result = np.argmax(result, axis=1)\n",
    "\n",
    "        for word, index in tokenizer.word_index.items(): \n",
    "            if index == result:\n",
    "                break\n",
    "\n",
    "        current_word = current_word + ' '  + word\n",
    "        sentence = sentence + ' ' + word\n",
    "        \n",
    "    sentence = init_word + sentence\n",
    "    return sentence"
   ]
  },
  {
   "cell_type": "code",
   "execution_count": 102,
   "metadata": {},
   "outputs": [
    {
     "name": "stderr",
     "output_type": "stream",
     "text": [
      "2023-02-22 02:40:59.107966: I tensorflow/core/grappler/optimizers/custom_graph_optimizer_registry.cc:113] Plugin optimizer for device_type GPU is enabled.\n",
      "2023-02-22 02:40:59.168904: I tensorflow/core/grappler/optimizers/custom_graph_optimizer_registry.cc:113] Plugin optimizer for device_type GPU is enabled.\n"
     ]
    },
    {
     "name": "stdout",
     "output_type": "stream",
     "text": [
      "i want to be rich and im not sorry draws risks\n"
     ]
    }
   ],
   "source": [
    "print(sentence_generation(model, tokenizer, 'i', 10))"
   ]
  },
  {
   "cell_type": "code",
   "execution_count": 103,
   "metadata": {},
   "outputs": [
    {
     "name": "stdout",
     "output_type": "stream",
     "text": [
      "how can a doctor grapple with the epidemic of cost coverage\n"
     ]
    }
   ],
   "source": [
    "print(sentence_generation(model, tokenizer, 'how', 10))"
   ]
  },
  {
   "cell_type": "code",
   "execution_count": null,
   "metadata": {},
   "outputs": [],
   "source": []
  }
 ],
 "metadata": {
  "kernelspec": {
   "display_name": "tf-cert",
   "language": "python",
   "name": "python3"
  },
  "language_info": {
   "codemirror_mode": {
    "name": "ipython",
    "version": 3
   },
   "file_extension": ".py",
   "mimetype": "text/x-python",
   "name": "python",
   "nbconvert_exporter": "python",
   "pygments_lexer": "ipython3",
   "version": "3.8.15"
  },
  "orig_nbformat": 4,
  "vscode": {
   "interpreter": {
    "hash": "b37592e24976bbc2b4793f9e16cde29a149096caf81a3ecbdead9daa6a7261c0"
   }
  }
 },
 "nbformat": 4,
 "nbformat_minor": 2
}
